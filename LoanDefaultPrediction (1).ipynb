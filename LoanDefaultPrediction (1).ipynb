{
  "nbformat": 4,
  "nbformat_minor": 0,
  "metadata": {
    "colab": {
      "provenance": []
    },
    "kernelspec": {
      "name": "python3",
      "display_name": "Python 3"
    },
    "language_info": {
      "name": "python"
    }
  },
  "cells": [
    {
      "cell_type": "markdown",
      "source": [
        "#Investigating Loan Default Data\n",
        "\n",
        "Checklist:\n",
        "\n",
        "- Basic data cleaning and feature exploration\n",
        "\n",
        "- Exploratory data analysis (Answering questions we have of the data)\n",
        "\n",
        "- Basic Data Engineering (Creating a pipeline for tain and test sets)\n",
        "\n",
        "- Model Experimentation and parameter tuning (Linear Regression, Random Forest, XGBoost, MLP)\n",
        "\n",
        "- Feature Engineering\n",
        "\n",
        "- Ensembling\n",
        "\n"
      ],
      "metadata": {
        "id": "bF-EvZqq6v9h"
      }
    },
    {
      "cell_type": "markdown",
      "source": [
        "##Data Dictionary\n",
        "\n",
        "* ID: unique ID of representative\n",
        "* Loan Amount: loan amount applied\n",
        "* Funded Amount:loan amount funded\n",
        "* Funded Amount Investor: loan amount approved by the investors\n",
        "* Term: term of loan (in months)\n",
        "* Batch Enrolled: batch numbers to representatives\n",
        "* Interest Rate: interest rate (%) on loan\n",
        "* Grade: grade by the bank\n",
        "* Sub Grade: sub-grade by the bank\n",
        "* Debit to Income: ratio of representative's total monthly debt repayment divided by self reported monthly income excluding mortgage\n",
        "* Delinquency - two years: number of 30+ days delinquency in past 2 - years\n",
        "* Inquires - six months: total number of inquiries in last 6 months\n",
        "* Open Account: number of open credit line in representative's - credit line\n",
        "* Public Record: number of derogatory public records\n",
        "* Revolving Balance: total credit revolving balance\n",
        "* Revolving Utilities: amount of credit a representative is using - relative to revolving_balance\n",
        "* Total Accounts: total number of credit lines available in - representatives credit line\n",
        "* Initial List Status: unique listing status of the loan - - W(Waiting), F(Forwarded)\n",
        "* Total Received Interest: total interest received till date\n",
        "* Total Received Late Fee: total late fee received till date\n",
        "* Recoveries: post charge off gross recovery\n",
        "* Collection Recovery Fee: post charge off collection fee\n",
        "* Collection 12 months Medical: total collections in last 12 months - excluding medical collections\n",
        "* Application Type: indicates when the representative is an individual or joint\n",
        "* Last week Pay: indicates how long (in weeks) a representative has paid EMI after batch enrolled\n",
        "* Accounts Delinquent: number of accounts on which the representative is delinquent\n",
        "* Total Collection Amount: total collection amount ever owed\n",
        "* Total Current Balance: total current balance from all accounts\n",
        "* Total Revolving Credit Limit: total revolving credit limit\n",
        "* Loan Status: 1 = Defaulter, 0 = Non Defaulters\n",
        "\n",
        "\n",
        "\n",
        "#Features of how importance based on my own logic:\n",
        "\n",
        "ID: This feature is a unique identifier and typically does not provide any predictive power or insights about loan defaults. It can be safely ignored for the analysis.\n",
        "\n",
        "Loan Amount: The loan amount applied by borrowers may be relevant as larger loans could potentially be riskier. It is worth investigating this feature further to determine its predictive power.\n",
        "\n",
        "Funded Amount and Funded Amount Investor: These features represent the actual loan amounts funded and approved by investors, respectively. They can provide insights into the bank's decision-making process but may not directly contribute to predicting loan defaults. However, the difference between the applied and funded amounts could be an interesting metric to consider.\n",
        "\n",
        "Term: The term of the loan in months might be informative, as longer-term loans may carry higher default risks. Analyzing the relationship between loan term and default rates could be valuable.\n",
        "\n",
        "Batch Enrolled: This feature represents batch numbers assigned to representatives. It might not directly relate to loan defaults but could offer insights into loan origination processes or potential clustering effects. Further exploration is recommended.\n",
        "\n",
        "Interest Rate: The interest rate assigned to the loan could be an important predictor of loan defaults. Higher interest rates might indicate riskier borrowers. Analyzing the relationship between interest rates and default rates is crucial.\n",
        "\n",
        "Grade and Sub Grade: These categorical features assigned by the bank might be useful in predicting loan defaults. Grades and sub-grades often reflect the borrower's creditworthiness, and they are typically based on factors like credit history, income, and employment stability.\n",
        "\n",
        "Debt to Income: This ratio provides information about the borrower's financial health. A higher debt-to-income ratio might indicate a higher default risk. Analyzing the relationship between debt-to-income ratio and loan defaults is recommended.\n",
        "\n",
        "Delinquency - two years: The number of 30+ days delinquencies in the past two years can be a strong indicator of default risk. Borrowers with a history of delinquencies are more likely to default in the future.\n",
        "\n",
        "Inquiries - six months: The number of credit inquiries made in the last six months might indicate the borrower's recent credit-seeking behavior. A higher number of inquiries could imply increased financial stress and potentially higher default risk.\n",
        "\n",
        "Open Account: The number of open credit lines reflects the borrower's credit utilization and creditworthiness. A higher number of open accounts might indicate a lower default risk.\n",
        "\n",
        "Public Record: The presence of derogatory public records, such as bankruptcies or tax liens, can be a significant predictor of loan defaults. Borrowers with public records are generally considered higher risk.\n",
        "\n",
        "Revolving Balance and Revolving Utilities: These features provide information about the borrower's credit utilization ratio. Higher credit utilization might suggest a higher default risk. Investigate the relationship between credit utilization and default rates.\n",
        "\n",
        "Total Accounts: The total number of credit lines available to the borrower could indicate their creditworthiness and financial stability. A higher number of accounts might suggest a lower default risk.\n",
        "\n",
        "Initial List Status: This feature represents the unique listing status of the loan. While it might not directly indicate loan defaults, it could offer insights into the loan origination process or potential data biases. Further investigation is recommended.\n",
        "\n",
        "Total Received Interest, Total Received Late Fee, Recoveries, Collection Recovery Fee, Collection 12 months Medical: These features represent financial transactions related to loan repayments, recoveries, and collections. While they may not be directly predictive of loan defaults, they can provide insights into the effectiveness of debt recovery strategies.\n",
        "\n",
        "Application Type: This feature indicates whether the representative is an individual or joint applicant. It might offer\n",
        "\n",
        "\n",
        "\n",
        "\n"
      ],
      "metadata": {
        "id": "_CFlDDfSFNsX"
      }
    },
    {
      "cell_type": "code",
      "source": [
        "import pandas as pd\n",
        "import numpy as np\n",
        "\n",
        "#for visualization\n",
        "import matplotlib.pyplot as plt\n",
        "import seaborn as sns\n",
        "\n",
        "#Preprocessing\n",
        "from sklearn.compose import ColumnTransformer\n",
        "from sklearn.pipeline import Pipeline, make_pipeline\n",
        "from sklearn.impute import SimpleImputer\n",
        "from sklearn.preprocessing import StandardScaler, RobustScaler, MinMaxScaler, OneHotEncoder\n",
        "from sklearn.preprocessing import Normalizer\n",
        "from sklearn.preprocessing import KBinsDiscretizer, FunctionTransformer, PowerTransformer\n",
        "from sklearn.utils import shuffle\n",
        "\n",
        "\n",
        "\n",
        "# import required packages for splitting data\n",
        "from sklearn import model_selection\n",
        "from sklearn.model_selection import cross_val_score\n",
        "from sklearn.model_selection import train_test_split\n",
        "\n",
        "#Feature Selection \n",
        "\n",
        "# Import the necessary libraries first\n",
        "#### Correlation method - for classification chi2 only\n",
        "from sklearn.feature_selection import SelectKBest\n",
        "from sklearn.feature_selection import chi2, f_classif\n",
        "#### RFE method - replace the model with the model you plan to use\n",
        "from sklearn.feature_selection import RFE\n",
        "# from sklearn.linear_model import LogisticRegression\n",
        "#### feature importance method\n",
        "#### this method can be used for both topK and cut-off\n",
        "from sklearn.linear_model import Ridge\n",
        "#### specifically tree-based feature importance method\n",
        "from sklearn.ensemble import RandomForestClassifier, ExtraTreesClassifier\n",
        "#### for voting\n",
        "from collections import Counter\n",
        "#### for ANOVA\n",
        "import statsmodels.formula.api as smf\n",
        "import statsmodels.stats.api as sms\n",
        "\n",
        "# balance the data\n",
        "from imblearn.over_sampling import SMOTE\n",
        "\n",
        "\n",
        "# import required packages for evaluating models\n",
        "from sklearn import metrics\n",
        "from sklearn.metrics import confusion_matrix\n",
        "from sklearn.metrics import classification_report\n",
        "from sklearn.metrics import roc_auc_score\n",
        "from sklearn.metrics import accuracy_score\n",
        "from sklearn.metrics import precision_recall_fscore_support\n",
        "\n",
        "\n",
        "from sklearn.tree import DecisionTreeClassifier\n",
        "from sklearn.linear_model import LogisticRegression, SGDClassifier\n",
        "from sklearn.svm import LinearSVC\n",
        "from sklearn.naive_bayes import GaussianNB\n",
        "from sklearn.ensemble import RandomForestClassifier, GradientBoostingClassifier, BaggingClassifier, VotingClassifier\n",
        "from xgboost import XGBClassifier\n",
        "\n",
        "#hyperparameter tuning\n",
        "import time\n",
        "from sklearn.model_selection import RandomizedSearchCV\n",
        "from scipy.stats import randint\n",
        "\n",
        "# balance the data\n",
        "from imblearn.over_sampling import SMOTE\n",
        "\n",
        "from scipy.stats import ttest_ind\n",
        "\n",
        "import datetime\n",
        "from tqdm import tqdm\n",
        "from itertools import combinations\n",
        "\n",
        "RANDOM_STATE = int(datetime.date.today().year)\n",
        "\n",
        "#recall\n",
        "\n",
        "from sklearn.metrics import recall_score"
      ],
      "metadata": {
        "id": "LRxsPfmH-eOH"
      },
      "execution_count": null,
      "outputs": []
    },
    {
      "cell_type": "code",
      "source": [
        "df = pd.read_csv('/content/drive/MyDrive/DATA6999:Capstone/Loan Default/train.csv')\n",
        "\n",
        "df.head()"
      ],
      "metadata": {
        "id": "aJouhpn29a-a",
        "colab": {
          "base_uri": "https://localhost:8080/",
          "height": 314
        },
        "outputId": "fd5d00d8-702e-420e-f870-2d11ac7404c7"
      },
      "execution_count": null,
      "outputs": [
        {
          "output_type": "execute_result",
          "data": {
            "text/plain": [
              "         ID  Loan Amount  Funded Amount  Funded Amount Investor  Term  \\\n",
              "0  65087372        10000          32236             12329.36286    59   \n",
              "1   1450153         3609          11940             12191.99692    59   \n",
              "2   1969101        28276           9311             21603.22455    59   \n",
              "3   6651430        11170           6954             17877.15585    59   \n",
              "4  14354669        16890          13226             13539.92667    59   \n",
              "\n",
              "  Batch Enrolled  Interest Rate Grade Sub Grade Employment Duration  ...  \\\n",
              "0     BAT2522922      11.135007     B        C4            MORTGAGE  ...   \n",
              "1     BAT1586599      12.237563     C        D3                RENT  ...   \n",
              "2     BAT2136391      12.545884     F        D4            MORTGAGE  ...   \n",
              "3     BAT2428731      16.731201     C        C3            MORTGAGE  ...   \n",
              "4     BAT5341619      15.008300     C        D4            MORTGAGE  ...   \n",
              "\n",
              "    Recoveries Collection Recovery Fee Collection 12 months Medical  \\\n",
              "0     2.498291                0.793724                            0   \n",
              "1     2.377215                0.974821                            0   \n",
              "2     4.316277                1.020075                            0   \n",
              "3     0.107020                0.749971                            0   \n",
              "4  1294.818751                0.368953                            0   \n",
              "\n",
              "  Application Type  Last week Pay  Accounts Delinquent  \\\n",
              "0       INDIVIDUAL             49                    0   \n",
              "1       INDIVIDUAL            109                    0   \n",
              "2       INDIVIDUAL             66                    0   \n",
              "3       INDIVIDUAL             39                    0   \n",
              "4       INDIVIDUAL             18                    0   \n",
              "\n",
              "   Total Collection Amount  Total Current Balance  \\\n",
              "0                       31                 311301   \n",
              "1                       53                 182610   \n",
              "2                       34                  89801   \n",
              "3                       40                   9189   \n",
              "4                      430                 126029   \n",
              "\n",
              "   Total Revolving Credit Limit  Loan Status  \n",
              "0                          6619            0  \n",
              "1                         20885            0  \n",
              "2                         26155            0  \n",
              "3                         60214            0  \n",
              "4                         22579            0  \n",
              "\n",
              "[5 rows x 35 columns]"
            ],
            "text/html": [
              "\n",
              "  <div id=\"df-23c58da3-8b9f-4a75-830b-dda71fc60790\">\n",
              "    <div class=\"colab-df-container\">\n",
              "      <div>\n",
              "<style scoped>\n",
              "    .dataframe tbody tr th:only-of-type {\n",
              "        vertical-align: middle;\n",
              "    }\n",
              "\n",
              "    .dataframe tbody tr th {\n",
              "        vertical-align: top;\n",
              "    }\n",
              "\n",
              "    .dataframe thead th {\n",
              "        text-align: right;\n",
              "    }\n",
              "</style>\n",
              "<table border=\"1\" class=\"dataframe\">\n",
              "  <thead>\n",
              "    <tr style=\"text-align: right;\">\n",
              "      <th></th>\n",
              "      <th>ID</th>\n",
              "      <th>Loan Amount</th>\n",
              "      <th>Funded Amount</th>\n",
              "      <th>Funded Amount Investor</th>\n",
              "      <th>Term</th>\n",
              "      <th>Batch Enrolled</th>\n",
              "      <th>Interest Rate</th>\n",
              "      <th>Grade</th>\n",
              "      <th>Sub Grade</th>\n",
              "      <th>Employment Duration</th>\n",
              "      <th>...</th>\n",
              "      <th>Recoveries</th>\n",
              "      <th>Collection Recovery Fee</th>\n",
              "      <th>Collection 12 months Medical</th>\n",
              "      <th>Application Type</th>\n",
              "      <th>Last week Pay</th>\n",
              "      <th>Accounts Delinquent</th>\n",
              "      <th>Total Collection Amount</th>\n",
              "      <th>Total Current Balance</th>\n",
              "      <th>Total Revolving Credit Limit</th>\n",
              "      <th>Loan Status</th>\n",
              "    </tr>\n",
              "  </thead>\n",
              "  <tbody>\n",
              "    <tr>\n",
              "      <th>0</th>\n",
              "      <td>65087372</td>\n",
              "      <td>10000</td>\n",
              "      <td>32236</td>\n",
              "      <td>12329.36286</td>\n",
              "      <td>59</td>\n",
              "      <td>BAT2522922</td>\n",
              "      <td>11.135007</td>\n",
              "      <td>B</td>\n",
              "      <td>C4</td>\n",
              "      <td>MORTGAGE</td>\n",
              "      <td>...</td>\n",
              "      <td>2.498291</td>\n",
              "      <td>0.793724</td>\n",
              "      <td>0</td>\n",
              "      <td>INDIVIDUAL</td>\n",
              "      <td>49</td>\n",
              "      <td>0</td>\n",
              "      <td>31</td>\n",
              "      <td>311301</td>\n",
              "      <td>6619</td>\n",
              "      <td>0</td>\n",
              "    </tr>\n",
              "    <tr>\n",
              "      <th>1</th>\n",
              "      <td>1450153</td>\n",
              "      <td>3609</td>\n",
              "      <td>11940</td>\n",
              "      <td>12191.99692</td>\n",
              "      <td>59</td>\n",
              "      <td>BAT1586599</td>\n",
              "      <td>12.237563</td>\n",
              "      <td>C</td>\n",
              "      <td>D3</td>\n",
              "      <td>RENT</td>\n",
              "      <td>...</td>\n",
              "      <td>2.377215</td>\n",
              "      <td>0.974821</td>\n",
              "      <td>0</td>\n",
              "      <td>INDIVIDUAL</td>\n",
              "      <td>109</td>\n",
              "      <td>0</td>\n",
              "      <td>53</td>\n",
              "      <td>182610</td>\n",
              "      <td>20885</td>\n",
              "      <td>0</td>\n",
              "    </tr>\n",
              "    <tr>\n",
              "      <th>2</th>\n",
              "      <td>1969101</td>\n",
              "      <td>28276</td>\n",
              "      <td>9311</td>\n",
              "      <td>21603.22455</td>\n",
              "      <td>59</td>\n",
              "      <td>BAT2136391</td>\n",
              "      <td>12.545884</td>\n",
              "      <td>F</td>\n",
              "      <td>D4</td>\n",
              "      <td>MORTGAGE</td>\n",
              "      <td>...</td>\n",
              "      <td>4.316277</td>\n",
              "      <td>1.020075</td>\n",
              "      <td>0</td>\n",
              "      <td>INDIVIDUAL</td>\n",
              "      <td>66</td>\n",
              "      <td>0</td>\n",
              "      <td>34</td>\n",
              "      <td>89801</td>\n",
              "      <td>26155</td>\n",
              "      <td>0</td>\n",
              "    </tr>\n",
              "    <tr>\n",
              "      <th>3</th>\n",
              "      <td>6651430</td>\n",
              "      <td>11170</td>\n",
              "      <td>6954</td>\n",
              "      <td>17877.15585</td>\n",
              "      <td>59</td>\n",
              "      <td>BAT2428731</td>\n",
              "      <td>16.731201</td>\n",
              "      <td>C</td>\n",
              "      <td>C3</td>\n",
              "      <td>MORTGAGE</td>\n",
              "      <td>...</td>\n",
              "      <td>0.107020</td>\n",
              "      <td>0.749971</td>\n",
              "      <td>0</td>\n",
              "      <td>INDIVIDUAL</td>\n",
              "      <td>39</td>\n",
              "      <td>0</td>\n",
              "      <td>40</td>\n",
              "      <td>9189</td>\n",
              "      <td>60214</td>\n",
              "      <td>0</td>\n",
              "    </tr>\n",
              "    <tr>\n",
              "      <th>4</th>\n",
              "      <td>14354669</td>\n",
              "      <td>16890</td>\n",
              "      <td>13226</td>\n",
              "      <td>13539.92667</td>\n",
              "      <td>59</td>\n",
              "      <td>BAT5341619</td>\n",
              "      <td>15.008300</td>\n",
              "      <td>C</td>\n",
              "      <td>D4</td>\n",
              "      <td>MORTGAGE</td>\n",
              "      <td>...</td>\n",
              "      <td>1294.818751</td>\n",
              "      <td>0.368953</td>\n",
              "      <td>0</td>\n",
              "      <td>INDIVIDUAL</td>\n",
              "      <td>18</td>\n",
              "      <td>0</td>\n",
              "      <td>430</td>\n",
              "      <td>126029</td>\n",
              "      <td>22579</td>\n",
              "      <td>0</td>\n",
              "    </tr>\n",
              "  </tbody>\n",
              "</table>\n",
              "<p>5 rows × 35 columns</p>\n",
              "</div>\n",
              "      <button class=\"colab-df-convert\" onclick=\"convertToInteractive('df-23c58da3-8b9f-4a75-830b-dda71fc60790')\"\n",
              "              title=\"Convert this dataframe to an interactive table.\"\n",
              "              style=\"display:none;\">\n",
              "        \n",
              "  <svg xmlns=\"http://www.w3.org/2000/svg\" height=\"24px\"viewBox=\"0 0 24 24\"\n",
              "       width=\"24px\">\n",
              "    <path d=\"M0 0h24v24H0V0z\" fill=\"none\"/>\n",
              "    <path d=\"M18.56 5.44l.94 2.06.94-2.06 2.06-.94-2.06-.94-.94-2.06-.94 2.06-2.06.94zm-11 1L8.5 8.5l.94-2.06 2.06-.94-2.06-.94L8.5 2.5l-.94 2.06-2.06.94zm10 10l.94 2.06.94-2.06 2.06-.94-2.06-.94-.94-2.06-.94 2.06-2.06.94z\"/><path d=\"M17.41 7.96l-1.37-1.37c-.4-.4-.92-.59-1.43-.59-.52 0-1.04.2-1.43.59L10.3 9.45l-7.72 7.72c-.78.78-.78 2.05 0 2.83L4 21.41c.39.39.9.59 1.41.59.51 0 1.02-.2 1.41-.59l7.78-7.78 2.81-2.81c.8-.78.8-2.07 0-2.86zM5.41 20L4 18.59l7.72-7.72 1.47 1.35L5.41 20z\"/>\n",
              "  </svg>\n",
              "      </button>\n",
              "      \n",
              "  <style>\n",
              "    .colab-df-container {\n",
              "      display:flex;\n",
              "      flex-wrap:wrap;\n",
              "      gap: 12px;\n",
              "    }\n",
              "\n",
              "    .colab-df-convert {\n",
              "      background-color: #E8F0FE;\n",
              "      border: none;\n",
              "      border-radius: 50%;\n",
              "      cursor: pointer;\n",
              "      display: none;\n",
              "      fill: #1967D2;\n",
              "      height: 32px;\n",
              "      padding: 0 0 0 0;\n",
              "      width: 32px;\n",
              "    }\n",
              "\n",
              "    .colab-df-convert:hover {\n",
              "      background-color: #E2EBFA;\n",
              "      box-shadow: 0px 1px 2px rgba(60, 64, 67, 0.3), 0px 1px 3px 1px rgba(60, 64, 67, 0.15);\n",
              "      fill: #174EA6;\n",
              "    }\n",
              "\n",
              "    [theme=dark] .colab-df-convert {\n",
              "      background-color: #3B4455;\n",
              "      fill: #D2E3FC;\n",
              "    }\n",
              "\n",
              "    [theme=dark] .colab-df-convert:hover {\n",
              "      background-color: #434B5C;\n",
              "      box-shadow: 0px 1px 3px 1px rgba(0, 0, 0, 0.15);\n",
              "      filter: drop-shadow(0px 1px 2px rgba(0, 0, 0, 0.3));\n",
              "      fill: #FFFFFF;\n",
              "    }\n",
              "  </style>\n",
              "\n",
              "      <script>\n",
              "        const buttonEl =\n",
              "          document.querySelector('#df-23c58da3-8b9f-4a75-830b-dda71fc60790 button.colab-df-convert');\n",
              "        buttonEl.style.display =\n",
              "          google.colab.kernel.accessAllowed ? 'block' : 'none';\n",
              "\n",
              "        async function convertToInteractive(key) {\n",
              "          const element = document.querySelector('#df-23c58da3-8b9f-4a75-830b-dda71fc60790');\n",
              "          const dataTable =\n",
              "            await google.colab.kernel.invokeFunction('convertToInteractive',\n",
              "                                                     [key], {});\n",
              "          if (!dataTable) return;\n",
              "\n",
              "          const docLinkHtml = 'Like what you see? Visit the ' +\n",
              "            '<a target=\"_blank\" href=https://colab.research.google.com/notebooks/data_table.ipynb>data table notebook</a>'\n",
              "            + ' to learn more about interactive tables.';\n",
              "          element.innerHTML = '';\n",
              "          dataTable['output_type'] = 'display_data';\n",
              "          await google.colab.output.renderOutput(dataTable, element);\n",
              "          const docLink = document.createElement('div');\n",
              "          docLink.innerHTML = docLinkHtml;\n",
              "          element.appendChild(docLink);\n",
              "        }\n",
              "      </script>\n",
              "    </div>\n",
              "  </div>\n",
              "  "
            ]
          },
          "metadata": {},
          "execution_count": 91
        }
      ]
    },
    {
      "cell_type": "markdown",
      "source": [
        "##EDA"
      ],
      "metadata": {
        "id": "6SCsITvP_u8p"
      }
    },
    {
      "cell_type": "code",
      "source": [
        "#I see no use in any of the features being of object data type\n",
        "df.info()"
      ],
      "metadata": {
        "colab": {
          "base_uri": "https://localhost:8080/"
        },
        "id": "jDYZp5To-c2j",
        "outputId": "1c756b8f-cb6f-4133-e7be-608036d0fd55"
      },
      "execution_count": null,
      "outputs": [
        {
          "output_type": "stream",
          "name": "stdout",
          "text": [
            "<class 'pandas.core.frame.DataFrame'>\n",
            "RangeIndex: 67463 entries, 0 to 67462\n",
            "Data columns (total 35 columns):\n",
            " #   Column                        Non-Null Count  Dtype  \n",
            "---  ------                        --------------  -----  \n",
            " 0   ID                            67463 non-null  int64  \n",
            " 1   Loan Amount                   67463 non-null  int64  \n",
            " 2   Funded Amount                 67463 non-null  int64  \n",
            " 3   Funded Amount Investor        67463 non-null  float64\n",
            " 4   Term                          67463 non-null  int64  \n",
            " 5   Batch Enrolled                67463 non-null  object \n",
            " 6   Interest Rate                 67463 non-null  float64\n",
            " 7   Grade                         67463 non-null  object \n",
            " 8   Sub Grade                     67463 non-null  object \n",
            " 9   Employment Duration           67463 non-null  object \n",
            " 10  Home Ownership                67463 non-null  float64\n",
            " 11  Verification Status           67463 non-null  object \n",
            " 12  Payment Plan                  67463 non-null  object \n",
            " 13  Loan Title                    67463 non-null  object \n",
            " 14  Debit to Income               67463 non-null  float64\n",
            " 15  Delinquency - two years       67463 non-null  int64  \n",
            " 16  Inquires - six months         67463 non-null  int64  \n",
            " 17  Open Account                  67463 non-null  int64  \n",
            " 18  Public Record                 67463 non-null  int64  \n",
            " 19  Revolving Balance             67463 non-null  int64  \n",
            " 20  Revolving Utilities           67463 non-null  float64\n",
            " 21  Total Accounts                67463 non-null  int64  \n",
            " 22  Initial List Status           67463 non-null  object \n",
            " 23  Total Received Interest       67463 non-null  float64\n",
            " 24  Total Received Late Fee       67463 non-null  float64\n",
            " 25  Recoveries                    67463 non-null  float64\n",
            " 26  Collection Recovery Fee       67463 non-null  float64\n",
            " 27  Collection 12 months Medical  67463 non-null  int64  \n",
            " 28  Application Type              67463 non-null  object \n",
            " 29  Last week Pay                 67463 non-null  int64  \n",
            " 30  Accounts Delinquent           67463 non-null  int64  \n",
            " 31  Total Collection Amount       67463 non-null  int64  \n",
            " 32  Total Current Balance         67463 non-null  int64  \n",
            " 33  Total Revolving Credit Limit  67463 non-null  int64  \n",
            " 34  Loan Status                   67463 non-null  int64  \n",
            "dtypes: float64(9), int64(17), object(9)\n",
            "memory usage: 18.0+ MB\n"
          ]
        }
      ]
    },
    {
      "cell_type": "markdown",
      "source": [
        "##Feature Engineering"
      ],
      "metadata": {
        "id": "JPn-O-0cZSad"
      }
    },
    {
      "cell_type": "code",
      "source": [
        "df.select_dtypes(include=['int64', 'float64']).nunique()\n"
      ],
      "metadata": {
        "colab": {
          "base_uri": "https://localhost:8080/"
        },
        "id": "NEWtNEoXk48T",
        "outputId": "e668dd44-b33d-4a1e-9690-64ae76792b39"
      },
      "execution_count": null,
      "outputs": [
        {
          "output_type": "execute_result",
          "data": {
            "text/plain": [
              "ID                              67463\n",
              "Loan Amount                     27525\n",
              "Funded Amount                   24548\n",
              "Funded Amount Investor          67441\n",
              "Term                                3\n",
              "Interest Rate                   67448\n",
              "Home Ownership                  67454\n",
              "Debit to Income                 67454\n",
              "Delinquency - two years             9\n",
              "Inquires - six months               6\n",
              "Open Account                       36\n",
              "Public Record                       5\n",
              "Revolving Balance               20582\n",
              "Revolving Utilities             67458\n",
              "Total Accounts                     69\n",
              "Total Received Interest         67451\n",
              "Total Received Late Fee         67380\n",
              "Recoveries                      67387\n",
              "Collection Recovery Fee         67313\n",
              "Collection 12 months Medical        2\n",
              "Last week Pay                     162\n",
              "Accounts Delinquent                 1\n",
              "Total Collection Amount          2193\n",
              "Total Current Balance           60901\n",
              "Total Revolving Credit Limit    37708\n",
              "Loan Status                         2\n",
              "dtype: int64"
            ]
          },
          "metadata": {},
          "execution_count": 93
        }
      ]
    },
    {
      "cell_type": "markdown",
      "source": [
        "###These numerical features are better used as cateogrical later since the numeric assignments are non-continuous, rather they represent a level of intensity on a scale."
      ],
      "metadata": {
        "id": "L5MAFJzfmxJW"
      }
    },
    {
      "cell_type": "code",
      "source": [
        "df['Accounts Delinquent'].unique()"
      ],
      "metadata": {
        "colab": {
          "base_uri": "https://localhost:8080/"
        },
        "id": "SE381mdVmqy4",
        "outputId": "76d7d3d8-9f67-46ce-e1c5-12d7f7ea5b26"
      },
      "execution_count": null,
      "outputs": [
        {
          "output_type": "execute_result",
          "data": {
            "text/plain": [
              "array([0])"
            ]
          },
          "metadata": {},
          "execution_count": 94
        }
      ]
    },
    {
      "cell_type": "code",
      "source": [
        "df['Term'].unique()"
      ],
      "metadata": {
        "colab": {
          "base_uri": "https://localhost:8080/"
        },
        "id": "I1tUdNlZlB-c",
        "outputId": "4bfadcd8-3caf-429b-aa4f-f29d1ab7eb4b"
      },
      "execution_count": null,
      "outputs": [
        {
          "output_type": "execute_result",
          "data": {
            "text/plain": [
              "array([59, 36, 58])"
            ]
          },
          "metadata": {},
          "execution_count": 95
        }
      ]
    },
    {
      "cell_type": "code",
      "source": [
        "df['Delinquency - two years'].unique()"
      ],
      "metadata": {
        "colab": {
          "base_uri": "https://localhost:8080/"
        },
        "id": "UR2-67m6lTsl",
        "outputId": "0875d008-4a0a-46f1-898c-631813ef4a19"
      },
      "execution_count": null,
      "outputs": [
        {
          "output_type": "execute_result",
          "data": {
            "text/plain": [
              "array([1, 0, 3, 6, 2, 7, 5, 4, 8])"
            ]
          },
          "metadata": {},
          "execution_count": 96
        }
      ]
    },
    {
      "cell_type": "code",
      "source": [
        "df['Inquires - six months'].unique()"
      ],
      "metadata": {
        "colab": {
          "base_uri": "https://localhost:8080/"
        },
        "id": "zlXXoJBwlXCR",
        "outputId": "8051451c-1a32-4f45-8225-bd98be0b89db"
      },
      "execution_count": null,
      "outputs": [
        {
          "output_type": "execute_result",
          "data": {
            "text/plain": [
              "array([0, 3, 2, 1, 4, 5])"
            ]
          },
          "metadata": {},
          "execution_count": 97
        }
      ]
    },
    {
      "cell_type": "code",
      "source": [
        "df['Public Record'].unique()"
      ],
      "metadata": {
        "colab": {
          "base_uri": "https://localhost:8080/"
        },
        "id": "HpnPHz8HlsCV",
        "outputId": "d05dd1b4-98e4-43ca-eba3-b06c26dd835b"
      },
      "execution_count": null,
      "outputs": [
        {
          "output_type": "execute_result",
          "data": {
            "text/plain": [
              "array([0, 1, 2, 4, 3])"
            ]
          },
          "metadata": {},
          "execution_count": 98
        }
      ]
    },
    {
      "cell_type": "code",
      "source": [
        "df['Collection 12 months Medical'].unique()"
      ],
      "metadata": {
        "colab": {
          "base_uri": "https://localhost:8080/"
        },
        "id": "sDYFYrUflLxJ",
        "outputId": "44517bdf-46e2-4272-da3a-152d687a05bc"
      },
      "execution_count": null,
      "outputs": [
        {
          "output_type": "execute_result",
          "data": {
            "text/plain": [
              "array([0, 1])"
            ]
          },
          "metadata": {},
          "execution_count": 99
        }
      ]
    },
    {
      "cell_type": "code",
      "source": [
        "df[['Term','Inquires - six months','Public Record','Collection 12 months Medical']]=df[['Term','Inquires - six months','Public Record','Collection 12 months Medical']].astype('object')"
      ],
      "metadata": {
        "id": "EnuF_TjemZUp"
      },
      "execution_count": null,
      "outputs": []
    },
    {
      "cell_type": "code",
      "source": [
        "#Number of Unique values of each objecy and categorical feature\n",
        "\n",
        "df.select_dtypes(include=['object', 'category']).nunique()"
      ],
      "metadata": {
        "colab": {
          "base_uri": "https://localhost:8080/"
        },
        "id": "XGHeJ1dRJ0DV",
        "outputId": "bbd9a070-2b56-4108-fa80-72745d02f1ee"
      },
      "execution_count": null,
      "outputs": [
        {
          "output_type": "execute_result",
          "data": {
            "text/plain": [
              "Term                              3\n",
              "Batch Enrolled                   41\n",
              "Grade                             7\n",
              "Sub Grade                        35\n",
              "Employment Duration               3\n",
              "Verification Status               3\n",
              "Payment Plan                      1\n",
              "Loan Title                      109\n",
              "Inquires - six months             6\n",
              "Public Record                     5\n",
              "Initial List Status               2\n",
              "Collection 12 months Medical      2\n",
              "Application Type                  2\n",
              "dtype: int64"
            ]
          },
          "metadata": {},
          "execution_count": 101
        }
      ]
    },
    {
      "cell_type": "code",
      "source": [
        "#Batch Enrolled: This feature represents batch numbers assigned to representatives. \n",
        "#It might not directly relate to loan defaults but could offer insights into loan \n",
        "#origination processes or potential clustering effects.\n",
        "\n",
        "df['Batch Enrolled']"
      ],
      "metadata": {
        "colab": {
          "base_uri": "https://localhost:8080/"
        },
        "id": "5Uw6tm_fJ-fc",
        "outputId": "1d33145c-07d4-4abc-f48e-f3eb6462e079"
      },
      "execution_count": null,
      "outputs": [
        {
          "output_type": "execute_result",
          "data": {
            "text/plain": [
              "0        BAT2522922\n",
              "1        BAT1586599\n",
              "2        BAT2136391\n",
              "3        BAT2428731\n",
              "4        BAT5341619\n",
              "            ...    \n",
              "67458    BAT3193689\n",
              "67459    BAT1780517\n",
              "67460    BAT1761981\n",
              "67461    BAT2333412\n",
              "67462    BAT1930365\n",
              "Name: Batch Enrolled, Length: 67463, dtype: object"
            ]
          },
          "metadata": {},
          "execution_count": 102
        }
      ]
    },
    {
      "cell_type": "code",
      "source": [
        "#Loan grading is the process of assigning a quality score to a loan application to identify a risk of default.\n",
        "\n",
        "df['Grade'].value_counts()"
      ],
      "metadata": {
        "colab": {
          "base_uri": "https://localhost:8080/"
        },
        "id": "n2O4x30xZuEM",
        "outputId": "aba11577-dcbd-468f-d060-ab0cd3691b23"
      },
      "execution_count": null,
      "outputs": [
        {
          "output_type": "execute_result",
          "data": {
            "text/plain": [
              "C    19085\n",
              "B    18742\n",
              "A    12055\n",
              "D     8259\n",
              "E     6446\n",
              "F     2246\n",
              "G      630\n",
              "Name: Grade, dtype: int64"
            ]
          },
          "metadata": {},
          "execution_count": 103
        }
      ]
    },
    {
      "cell_type": "code",
      "source": [
        "#Sub grades seem to be correlated with grades but not perfectly. We can see more\n",
        "#loans under the G subgrades than in the actual G grade for example\n",
        "\n",
        "df['Sub Grade'].value_counts()"
      ],
      "metadata": {
        "colab": {
          "base_uri": "https://localhost:8080/"
        },
        "id": "3TRX72WHZmvz",
        "outputId": "462ee5e8-2435-4e4f-f123-73eba40448bf"
      },
      "execution_count": null,
      "outputs": [
        {
          "output_type": "execute_result",
          "data": {
            "text/plain": [
              "B4    4462\n",
              "C1    4188\n",
              "B3    3999\n",
              "A5    3540\n",
              "B2    3520\n",
              "B5    3408\n",
              "D1    3304\n",
              "C4    3250\n",
              "C2    3219\n",
              "C3    3121\n",
              "B1    2924\n",
              "C5    2472\n",
              "A4    2264\n",
              "D4    2050\n",
              "D2    1963\n",
              "D5    1952\n",
              "A2    1837\n",
              "D3    1824\n",
              "E2    1746\n",
              "A3    1685\n",
              "A1    1364\n",
              "E3    1321\n",
              "E1    1298\n",
              "E4    1117\n",
              "F2     947\n",
              "F1     824\n",
              "E5     769\n",
              "F5     582\n",
              "F3     578\n",
              "G2     447\n",
              "F4     441\n",
              "G1     366\n",
              "G5     284\n",
              "G3     246\n",
              "G4     151\n",
              "Name: Sub Grade, dtype: int64"
            ]
          },
          "metadata": {},
          "execution_count": 104
        }
      ]
    },
    {
      "cell_type": "code",
      "source": [
        "#some of these loan titles are the same but recorded with different spelling/verbiage\n",
        "#May be useful to make a top 20\n",
        "\n",
        "df['Loan Title'].unique()"
      ],
      "metadata": {
        "colab": {
          "base_uri": "https://localhost:8080/"
        },
        "id": "5JxYUvsZKDsv",
        "outputId": "9f729375-6bbe-4b13-facf-86b0709b03e8"
      },
      "execution_count": null,
      "outputs": [
        {
          "output_type": "execute_result",
          "data": {
            "text/plain": [
              "array(['Debt Consolidation', 'Debt consolidation',\n",
              "       'Credit card refinancing', 'Home improvement',\n",
              "       'Credit Consolidation', 'Green loan', 'Other',\n",
              "       'Moving and relocation', 'Credit Cards', 'Medical expenses',\n",
              "       'DEBT CONSOLIDATION', 'Home Improvement', 'Refinance',\n",
              "       'credit card consolidation', 'Lending Club',\n",
              "       'Debt Consolidation Loan', 'Major purchase', 'Vacation',\n",
              "       'Business', 'Credit card payoff', 'Credit Card Consolidation',\n",
              "       'credit card', 'Credit Card Refi', 'Personal Loan', 'CC Refi',\n",
              "       'consolidate', 'Medical', 'Loan 1', 'Consolidation',\n",
              "       'Card Consolidation', 'Car financing', 'debt', 'home improvement',\n",
              "       'debt consolidation', 'Home buying', 'Freedom', 'Consolidate',\n",
              "       'Consolidated', 'get out of debt', 'consolidation loan',\n",
              "       'Dept consolidation', 'Personal loan', 'Personal', 'Debt', 'cards',\n",
              "       'Cards', 'Bathroom', 'refi', 'Credit Card Loan',\n",
              "       'Credit Card Debt', 'House', 'Debt Consolidation 2013',\n",
              "       'debt loan', 'CC Refinance', 'Consolidation Loan', 'Home',\n",
              "       'CC consolidation', 'Credit Card', 'Credit Card Refinance',\n",
              "       'Credit Loan', 'payoff', 'Bill Consolidation',\n",
              "       'credit card refinance', 'Credit Card consolidation',\n",
              "       'Credit Card Paydown', 'Credit card pay off', 'vacation',\n",
              "       'Credit card refinance', 'Get Debt Free', 'MYLOAN',\n",
              "       'credit pay off', 'Payoff', 'consolidation', 'My Loan', 'Loan',\n",
              "       'Bill Payoff', 'CC-Refinance', 'Debt Reduction', 'Medical loan',\n",
              "       'Wedding Loan', 'Credit', 'CONSOLIDATE', 'personal',\n",
              "       'pay off bills', 'CC Consolidation', 'Refinance Loan',\n",
              "       'Credit Card Payoff', 'Debt Payoff', 'Car Loan', 'Pay Off',\n",
              "       'Debt Loan', 'CONSOLIDATION', 'Pool', 'Credit payoff',\n",
              "       'Credit Card Refinance Loan', 'CC Loan', 'Debt Free',\n",
              "       'debt consolidation loan', 'conso', 'Home Improvement Loan',\n",
              "       'Loan Consolidation', 'Debt payoff', 'Lending loan', 'relief',\n",
              "       'CC', 'loan1', 'Getting Ahead', 'Home loan', 'bills'], dtype=object)"
            ]
          },
          "metadata": {},
          "execution_count": 105
        }
      ]
    },
    {
      "cell_type": "code",
      "source": [
        "#Since it looks like the top3 make up 90% we will replace the rest with Other \n",
        "\n",
        "df['Loan Title'].value_counts().iloc[:20]"
      ],
      "metadata": {
        "colab": {
          "base_uri": "https://localhost:8080/"
        },
        "id": "vV9Cq1jOMHQo",
        "outputId": "9cc97490-6cd1-4ff5-91cd-182e870945ae"
      },
      "execution_count": null,
      "outputs": [
        {
          "output_type": "execute_result",
          "data": {
            "text/plain": [
              "Credit card refinancing      30728\n",
              "Debt consolidation           24841\n",
              "Debt Consolidation            3544\n",
              "Other                         2455\n",
              "Home improvement              2211\n",
              "Major purchase                 487\n",
              "Medical expenses               237\n",
              "Business                       183\n",
              "Moving and relocation          157\n",
              "Car financing                  135\n",
              "Vacation                       114\n",
              "debt consolidation             105\n",
              "Consolidation                   97\n",
              "Home buying                     94\n",
              "Personal Loan                   78\n",
              "Debt Consolidation Loan         71\n",
              "Credit Card Consolidation       68\n",
              "Home Improvement                68\n",
              "Consolidate                     55\n",
              "Consolidation Loan              55\n",
              "Name: Loan Title, dtype: int64"
            ]
          },
          "metadata": {},
          "execution_count": 106
        }
      ]
    },
    {
      "cell_type": "code",
      "source": [
        "#Since it looks like the top3 make up over 90% of the values and some others are just repeats\n",
        "#We can reduce these values to just 3 unique ones. \n",
        "\n",
        "#Refinance, Consolidation and Other\n",
        "\n",
        "print('Ratio consisted of the top 4 values:' ,  round((df['Loan Title'].value_counts().iloc[:4].sum()/df['Loan Title'].shape[0]) ,2))"
      ],
      "metadata": {
        "colab": {
          "base_uri": "https://localhost:8080/"
        },
        "id": "eZZa1DsPMlXd",
        "outputId": "d43e6bc6-6487-4fe3-c012-729de874ad86"
      },
      "execution_count": null,
      "outputs": [
        {
          "output_type": "stream",
          "name": "stdout",
          "text": [
            "Ratio consisted of the top 4 values: 0.91\n"
          ]
        }
      ]
    },
    {
      "cell_type": "code",
      "source": [
        "df['Loan Title'] = df['Loan Title'].replace(['Debt consolidation'], 'Debt Consolidation')"
      ],
      "metadata": {
        "id": "E1Gt_CCUOpkf"
      },
      "execution_count": null,
      "outputs": []
    },
    {
      "cell_type": "code",
      "source": [
        "top3 = df['Loan Title'].value_counts()[:3].index\n",
        "\n",
        "in_top3 = df['Loan Title'].isin(top3)\n",
        "\n",
        "in_top3\n",
        "\n",
        "df['Loan Title'] = np.where(~in_top3 == True, 'Other',df['Loan Title'] )"
      ],
      "metadata": {
        "id": "zLuj9Vw5SpCZ"
      },
      "execution_count": null,
      "outputs": []
    },
    {
      "cell_type": "code",
      "source": [
        "df['Loan Title'].value_counts('normalize')"
      ],
      "metadata": {
        "colab": {
          "base_uri": "https://localhost:8080/"
        },
        "id": "abWp5ImLRbXN",
        "outputId": "7c632402-0d11-4f66-b80a-9fbac6237238"
      },
      "execution_count": null,
      "outputs": [
        {
          "output_type": "execute_result",
          "data": {
            "text/plain": [
              "Credit card refinancing    0.455479\n",
              "Debt Consolidation         0.420749\n",
              "Other                      0.123772\n",
              "Name: Loan Title, dtype: float64"
            ]
          },
          "metadata": {},
          "execution_count": 110
        }
      ]
    },
    {
      "cell_type": "code",
      "source": [
        "#converting object into cateogry\n",
        "\n",
        "def convert_obj_to_cat(df):\n",
        "    obj_cols = df.select_dtypes(include=['object']).columns\n",
        "    df[obj_cols] = df[obj_cols].astype('category')\n",
        "    return df\n",
        "\n",
        "df = convert_obj_to_cat(df)\n",
        "\n",
        "df.info()\n"
      ],
      "metadata": {
        "colab": {
          "base_uri": "https://localhost:8080/"
        },
        "id": "rid7Jh7sCioo",
        "outputId": "d47d7eeb-a2f2-40d8-e04a-f42c46102aea"
      },
      "execution_count": null,
      "outputs": [
        {
          "output_type": "stream",
          "name": "stdout",
          "text": [
            "<class 'pandas.core.frame.DataFrame'>\n",
            "RangeIndex: 67463 entries, 0 to 67462\n",
            "Data columns (total 35 columns):\n",
            " #   Column                        Non-Null Count  Dtype   \n",
            "---  ------                        --------------  -----   \n",
            " 0   ID                            67463 non-null  int64   \n",
            " 1   Loan Amount                   67463 non-null  int64   \n",
            " 2   Funded Amount                 67463 non-null  int64   \n",
            " 3   Funded Amount Investor        67463 non-null  float64 \n",
            " 4   Term                          67463 non-null  category\n",
            " 5   Batch Enrolled                67463 non-null  category\n",
            " 6   Interest Rate                 67463 non-null  float64 \n",
            " 7   Grade                         67463 non-null  category\n",
            " 8   Sub Grade                     67463 non-null  category\n",
            " 9   Employment Duration           67463 non-null  category\n",
            " 10  Home Ownership                67463 non-null  float64 \n",
            " 11  Verification Status           67463 non-null  category\n",
            " 12  Payment Plan                  67463 non-null  category\n",
            " 13  Loan Title                    67463 non-null  category\n",
            " 14  Debit to Income               67463 non-null  float64 \n",
            " 15  Delinquency - two years       67463 non-null  int64   \n",
            " 16  Inquires - six months         67463 non-null  category\n",
            " 17  Open Account                  67463 non-null  int64   \n",
            " 18  Public Record                 67463 non-null  category\n",
            " 19  Revolving Balance             67463 non-null  int64   \n",
            " 20  Revolving Utilities           67463 non-null  float64 \n",
            " 21  Total Accounts                67463 non-null  int64   \n",
            " 22  Initial List Status           67463 non-null  category\n",
            " 23  Total Received Interest       67463 non-null  float64 \n",
            " 24  Total Received Late Fee       67463 non-null  float64 \n",
            " 25  Recoveries                    67463 non-null  float64 \n",
            " 26  Collection Recovery Fee       67463 non-null  float64 \n",
            " 27  Collection 12 months Medical  67463 non-null  category\n",
            " 28  Application Type              67463 non-null  category\n",
            " 29  Last week Pay                 67463 non-null  int64   \n",
            " 30  Accounts Delinquent           67463 non-null  int64   \n",
            " 31  Total Collection Amount       67463 non-null  int64   \n",
            " 32  Total Current Balance         67463 non-null  int64   \n",
            " 33  Total Revolving Credit Limit  67463 non-null  int64   \n",
            " 34  Loan Status                   67463 non-null  int64   \n",
            "dtypes: category(13), float64(9), int64(13)\n",
            "memory usage: 12.2 MB\n"
          ]
        }
      ]
    },
    {
      "cell_type": "markdown",
      "source": [
        "## Data Profile"
      ],
      "metadata": {
        "id": "iH5rw6-yb0zP"
      }
    },
    {
      "cell_type": "code",
      "source": [
        "!pip install ydata-profiling\n",
        "from ydata_profiling import ProfileReport\n",
        "\n",
        "profile_eda = ProfileReport(df)\n",
        "\n",
        "profile_eda"
      ],
      "metadata": {
        "id": "yfWRfkj-XZJB"
      },
      "execution_count": null,
      "outputs": []
    },
    {
      "cell_type": "markdown",
      "source": [
        "###Dropping columns that wil not be useful\n",
        "\n"
      ],
      "metadata": {
        "id": "CXmcr3GmPPCZ"
      }
    },
    {
      "cell_type": "code",
      "source": [
        "#Accounts delinquent only has 1 value of 0 and thus may not be useful for our model\n",
        "#There is also only 1 unique values for payment plan \n",
        "\n",
        "df = df.drop(['ID', 'Accounts Delinquent','Payment Plan'], axis =1)"
      ],
      "metadata": {
        "id": "eX85HlcPQex3"
      },
      "execution_count": null,
      "outputs": []
    },
    {
      "cell_type": "markdown",
      "source": [
        "##Is the Data Distribution Normal?"
      ],
      "metadata": {
        "id": "tbLtpMeql7K_"
      }
    },
    {
      "cell_type": "markdown",
      "source": [
        "###Skewness\n",
        "\n",
        "We can see some columns need to have their skewness removed"
      ],
      "metadata": {
        "id": "GB14hFkAmAGx"
      }
    },
    {
      "cell_type": "code",
      "source": [
        "df.skew().plot(kind='bar')"
      ],
      "metadata": {
        "id": "MoMYenEzhOY_",
        "colab": {
          "base_uri": "https://localhost:8080/",
          "height": 713
        },
        "outputId": "b7091db8-0561-4048-d89c-638572ae1c37"
      },
      "execution_count": null,
      "outputs": [
        {
          "output_type": "stream",
          "name": "stderr",
          "text": [
            "<ipython-input-114-6ce6f21d3aab>:1: FutureWarning: The default value of numeric_only in DataFrame.skew is deprecated. In a future version, it will default to False. In addition, specifying 'numeric_only=None' is deprecated. Select only valid columns or specify the value of numeric_only to silence this warning.\n",
            "  df.skew().plot(kind='bar')\n"
          ]
        },
        {
          "output_type": "execute_result",
          "data": {
            "text/plain": [
              "<Axes: >"
            ]
          },
          "metadata": {},
          "execution_count": 114
        },
        {
          "output_type": "display_data",
          "data": {
            "text/plain": [
              "<Figure size 800x550 with 1 Axes>"
            ],
            "image/png": "[encoded data removed]"
          },
          "metadata": {}
        }
      ]
    },
    {
      "cell_type": "code",
      "source": [
        "df.skew() > .5 \n",
        "\n",
        "\n"
      ],
      "metadata": {
        "id": "6byQVyWhmCIu",
        "colab": {
          "base_uri": "https://localhost:8080/"
        },
        "outputId": "b8b0500f-8028-495b-ad9f-1a06fe4cb901"
      },
      "execution_count": null,
      "outputs": [
        {
          "output_type": "stream",
          "name": "stderr",
          "text": [
            "<ipython-input-115-0f09135844a0>:1: FutureWarning: The default value of numeric_only in DataFrame.skew is deprecated. In a future version, it will default to False. In addition, specifying 'numeric_only=None' is deprecated. Select only valid columns or specify the value of numeric_only to silence this warning.\n",
            "  df.skew() > .5\n"
          ]
        },
        {
          "output_type": "execute_result",
          "data": {
            "text/plain": [
              "Loan Amount                     False\n",
              "Funded Amount                    True\n",
              "Funded Amount Investor           True\n",
              "Interest Rate                    True\n",
              "Home Ownership                   True\n",
              "Debit to Income                 False\n",
              "Delinquency - two years          True\n",
              "Open Account                     True\n",
              "Revolving Balance                True\n",
              "Revolving Utilities             False\n",
              "Total Accounts                   True\n",
              "Total Received Interest          True\n",
              "Total Received Late Fee          True\n",
              "Recoveries                       True\n",
              "Collection Recovery Fee          True\n",
              "Last week Pay                   False\n",
              "Total Collection Amount          True\n",
              "Total Current Balance            True\n",
              "Total Revolving Credit Limit     True\n",
              "Loan Status                      True\n",
              "dtype: bool"
            ]
          },
          "metadata": {},
          "execution_count": 115
        }
      ]
    },
    {
      "cell_type": "markdown",
      "source": [
        "###Scaling\n",
        "\n",
        "It is obvious form the data dispalyed below that features are on totally different scales. We will have to use scaling to prepare our data for the model."
      ],
      "metadata": {
        "id": "4x3ztx4jmy3d"
      }
    },
    {
      "cell_type": "code",
      "source": [
        "numeric_data = pd.DataFrame(df._get_numeric_data())\n",
        "\n",
        "numeric_data.describe(include='all').T\n"
      ],
      "metadata": {
        "id": "nbN-by_FnY66",
        "colab": {
          "base_uri": "https://localhost:8080/",
          "height": 676
        },
        "outputId": "b911a07b-151a-4fa5-eafc-301c114a239b"
      },
      "execution_count": null,
      "outputs": [
        {
          "output_type": "execute_result",
          "data": {
            "text/plain": [
              "                                count           mean            std  \\\n",
              "Loan Amount                   67463.0   16848.902776    8367.865726   \n",
              "Funded Amount                 67463.0   15770.599114    8150.992662   \n",
              "Funded Amount Investor        67463.0   14621.799323    6785.345170   \n",
              "Interest Rate                 67463.0      11.846258       3.718629   \n",
              "Home Ownership                67463.0   80541.502522   45029.120366   \n",
              "Debit to Income               67463.0      23.299241       8.451824   \n",
              "Delinquency - two years       67463.0       0.327127       0.800888   \n",
              "Open Account                  67463.0      14.266561       6.225060   \n",
              "Revolving Balance             67463.0    7699.342425    7836.148190   \n",
              "Revolving Utilities           67463.0      52.889443      22.539450   \n",
              "Total Accounts                67463.0      18.627929       8.319246   \n",
              "Total Received Interest       67463.0    2068.992542    2221.918745   \n",
              "Total Received Late Fee       67463.0       1.143969       5.244365   \n",
              "Recoveries                    67463.0      59.691578     357.026346   \n",
              "Collection Recovery Fee       67463.0       1.125141       3.489885   \n",
              "Last week Pay                 67463.0      71.163260      43.315845   \n",
              "Total Collection Amount       67463.0     146.467990     744.382233   \n",
              "Total Current Balance         67463.0  159573.933638  139033.245565   \n",
              "Total Revolving Credit Limit  67463.0   23123.005544   20916.699999   \n",
              "Loan Status                   67463.0       0.092510       0.289747   \n",
              "\n",
              "                                       min           25%            50%  \\\n",
              "Loan Amount                    1014.000000  10012.000000   16073.000000   \n",
              "Funded Amount                  1014.000000   9266.500000   13042.000000   \n",
              "Funded Amount Investor         1114.590204   9831.684984   12793.682170   \n",
              "Interest Rate                     5.320006      9.297147      11.377696   \n",
              "Home Ownership                14573.537170  51689.843335   69335.832680   \n",
              "Debit to Income                   0.675299     16.756416      22.656658   \n",
              "Delinquency - two years           0.000000      0.000000       0.000000   \n",
              "Open Account                      2.000000     10.000000      13.000000   \n",
              "Revolving Balance                 0.000000   2557.000000    5516.000000   \n",
              "Revolving Utilities               0.005172     38.658825      54.082334   \n",
              "Total Accounts                    4.000000     13.000000      18.000000   \n",
              "Total Received Interest           4.736746    570.903814    1330.842771   \n",
              "Total Received Late Fee           0.000003      0.021114       0.043398   \n",
              "Recoveries                        0.000036      1.629818       3.344524   \n",
              "Collection Recovery Fee           0.000036      0.476259       0.780141   \n",
              "Last week Pay                     0.000000     35.000000      68.000000   \n",
              "Total Collection Amount           1.000000     24.000000      36.000000   \n",
              "Total Current Balance           617.000000  50379.000000  118369.000000   \n",
              "Total Revolving Credit Limit   1000.000000   8155.500000   16733.000000   \n",
              "Loan Status                       0.000000      0.000000       0.000000   \n",
              "\n",
              "                                        75%           max  \n",
              "Loan Amount                    22106.000000  3.500000e+04  \n",
              "Funded Amount                  21793.000000  3.499900e+04  \n",
              "Funded Amount Investor         17807.594120  3.499975e+04  \n",
              "Interest Rate                     14.193533  2.718235e+01  \n",
              "Home Ownership                 94623.322785  4.065615e+05  \n",
              "Debit to Income                   30.048400  3.962986e+01  \n",
              "Delinquency - two years            0.000000  8.000000e+00  \n",
              "Open Account                      16.000000  3.700000e+01  \n",
              "Revolving Balance              10184.500000  1.169330e+05  \n",
              "Revolving Utilities               69.177117  1.008800e+02  \n",
              "Total Accounts                    23.000000  7.200000e+01  \n",
              "Total Received Interest         2656.956837  1.430137e+04  \n",
              "Total Received Late Fee            0.071884  4.261888e+01  \n",
              "Recoveries                         5.453727  4.354467e+03  \n",
              "Collection Recovery Fee            1.070566  1.668330e+02  \n",
              "Last week Pay                    105.000000  1.610000e+02  \n",
              "Total Collection Amount           46.000000  1.642100e+04  \n",
              "Total Current Balance         228375.000000  1.177412e+06  \n",
              "Total Revolving Credit Limit   32146.500000  2.011690e+05  \n",
              "Loan Status                        0.000000  1.000000e+00  "
            ],
            "text/html": [
              "\n",
              "  <div id=\"df-08fa1f91-ec32-4c3c-97f4-268a90b05b8a\">\n",
              "    <div class=\"colab-df-container\">\n",
              "      <div>\n",
              "<style scoped>\n",
              "    .dataframe tbody tr th:only-of-type {\n",
              "        vertical-align: middle;\n",
              "    }\n",
              "\n",
              "    .dataframe tbody tr th {\n",
              "        vertical-align: top;\n",
              "    }\n",
              "\n",
              "    .dataframe thead th {\n",
              "        text-align: right;\n",
              "    }\n",
              "</style>\n",
              "<table border=\"1\" class=\"dataframe\">\n",
              "  <thead>\n",
              "    <tr style=\"text-align: right;\">\n",
              "      <th></th>\n",
              "      <th>count</th>\n",
              "      <th>mean</th>\n",
              "      <th>std</th>\n",
              "      <th>min</th>\n",
              "      <th>25%</th>\n",
              "      <th>50%</th>\n",
              "      <th>75%</th>\n",
              "      <th>max</th>\n",
              "    </tr>\n",
              "  </thead>\n",
              "  <tbody>\n",
              "    <tr>\n",
              "      <th>Loan Amount</th>\n",
              "      <td>67463.0</td>\n",
              "      <td>16848.902776</td>\n",
              "      <td>8367.865726</td>\n",
              "      <td>1014.000000</td>\n",
              "      <td>10012.000000</td>\n",
              "      <td>16073.000000</td>\n",
              "      <td>22106.000000</td>\n",
              "      <td>3.500000e+04</td>\n",
              "    </tr>\n",
              "    <tr>\n",
              "      <th>Funded Amount</th>\n",
              "      <td>67463.0</td>\n",
              "      <td>15770.599114</td>\n",
              "      <td>8150.992662</td>\n",
              "      <td>1014.000000</td>\n",
              "      <td>9266.500000</td>\n",
              "      <td>13042.000000</td>\n",
              "      <td>21793.000000</td>\n",
              "      <td>3.499900e+04</td>\n",
              "    </tr>\n",
              "    <tr>\n",
              "      <th>Funded Amount Investor</th>\n",
              "      <td>67463.0</td>\n",
              "      <td>14621.799323</td>\n",
              "      <td>6785.345170</td>\n",
              "      <td>1114.590204</td>\n",
              "      <td>9831.684984</td>\n",
              "      <td>12793.682170</td>\n",
              "      <td>17807.594120</td>\n",
              "      <td>3.499975e+04</td>\n",
              "    </tr>\n",
              "    <tr>\n",
              "      <th>Interest Rate</th>\n",
              "      <td>67463.0</td>\n",
              "      <td>11.846258</td>\n",
              "      <td>3.718629</td>\n",
              "      <td>5.320006</td>\n",
              "      <td>9.297147</td>\n",
              "      <td>11.377696</td>\n",
              "      <td>14.193533</td>\n",
              "      <td>2.718235e+01</td>\n",
              "    </tr>\n",
              "    <tr>\n",
              "      <th>Home Ownership</th>\n",
              "      <td>67463.0</td>\n",
              "      <td>80541.502522</td>\n",
              "      <td>45029.120366</td>\n",
              "      <td>14573.537170</td>\n",
              "      <td>51689.843335</td>\n",
              "      <td>69335.832680</td>\n",
              "      <td>94623.322785</td>\n",
              "      <td>4.065615e+05</td>\n",
              "    </tr>\n",
              "    <tr>\n",
              "      <th>Debit to Income</th>\n",
              "      <td>67463.0</td>\n",
              "      <td>23.299241</td>\n",
              "      <td>8.451824</td>\n",
              "      <td>0.675299</td>\n",
              "      <td>16.756416</td>\n",
              "      <td>22.656658</td>\n",
              "      <td>30.048400</td>\n",
              "      <td>3.962986e+01</td>\n",
              "    </tr>\n",
              "    <tr>\n",
              "      <th>Delinquency - two years</th>\n",
              "      <td>67463.0</td>\n",
              "      <td>0.327127</td>\n",
              "      <td>0.800888</td>\n",
              "      <td>0.000000</td>\n",
              "      <td>0.000000</td>\n",
              "      <td>0.000000</td>\n",
              "      <td>0.000000</td>\n",
              "      <td>8.000000e+00</td>\n",
              "    </tr>\n",
              "    <tr>\n",
              "      <th>Open Account</th>\n",
              "      <td>67463.0</td>\n",
              "      <td>14.266561</td>\n",
              "      <td>6.225060</td>\n",
              "      <td>2.000000</td>\n",
              "      <td>10.000000</td>\n",
              "      <td>13.000000</td>\n",
              "      <td>16.000000</td>\n",
              "      <td>3.700000e+01</td>\n",
              "    </tr>\n",
              "    <tr>\n",
              "      <th>Revolving Balance</th>\n",
              "      <td>67463.0</td>\n",
              "      <td>7699.342425</td>\n",
              "      <td>7836.148190</td>\n",
              "      <td>0.000000</td>\n",
              "      <td>2557.000000</td>\n",
              "      <td>5516.000000</td>\n",
              "      <td>10184.500000</td>\n",
              "      <td>1.169330e+05</td>\n",
              "    </tr>\n",
              "    <tr>\n",
              "      <th>Revolving Utilities</th>\n",
              "      <td>67463.0</td>\n",
              "      <td>52.889443</td>\n",
              "      <td>22.539450</td>\n",
              "      <td>0.005172</td>\n",
              "      <td>38.658825</td>\n",
              "      <td>54.082334</td>\n",
              "      <td>69.177117</td>\n",
              "      <td>1.008800e+02</td>\n",
              "    </tr>\n",
              "    <tr>\n",
              "      <th>Total Accounts</th>\n",
              "      <td>67463.0</td>\n",
              "      <td>18.627929</td>\n",
              "      <td>8.319246</td>\n",
              "      <td>4.000000</td>\n",
              "      <td>13.000000</td>\n",
              "      <td>18.000000</td>\n",
              "      <td>23.000000</td>\n",
              "      <td>7.200000e+01</td>\n",
              "    </tr>\n",
              "    <tr>\n",
              "      <th>Total Received Interest</th>\n",
              "      <td>67463.0</td>\n",
              "      <td>2068.992542</td>\n",
              "      <td>2221.918745</td>\n",
              "      <td>4.736746</td>\n",
              "      <td>570.903814</td>\n",
              "      <td>1330.842771</td>\n",
              "      <td>2656.956837</td>\n",
              "      <td>1.430137e+04</td>\n",
              "    </tr>\n",
              "    <tr>\n",
              "      <th>Total Received Late Fee</th>\n",
              "      <td>67463.0</td>\n",
              "      <td>1.143969</td>\n",
              "      <td>5.244365</td>\n",
              "      <td>0.000003</td>\n",
              "      <td>0.021114</td>\n",
              "      <td>0.043398</td>\n",
              "      <td>0.071884</td>\n",
              "      <td>4.261888e+01</td>\n",
              "    </tr>\n",
              "    <tr>\n",
              "      <th>Recoveries</th>\n",
              "      <td>67463.0</td>\n",
              "      <td>59.691578</td>\n",
              "      <td>357.026346</td>\n",
              "      <td>0.000036</td>\n",
              "      <td>1.629818</td>\n",
              "      <td>3.344524</td>\n",
              "      <td>5.453727</td>\n",
              "      <td>4.354467e+03</td>\n",
              "    </tr>\n",
              "    <tr>\n",
              "      <th>Collection Recovery Fee</th>\n",
              "      <td>67463.0</td>\n",
              "      <td>1.125141</td>\n",
              "      <td>3.489885</td>\n",
              "      <td>0.000036</td>\n",
              "      <td>0.476259</td>\n",
              "      <td>0.780141</td>\n",
              "      <td>1.070566</td>\n",
              "      <td>1.668330e+02</td>\n",
              "    </tr>\n",
              "    <tr>\n",
              "      <th>Last week Pay</th>\n",
              "      <td>67463.0</td>\n",
              "      <td>71.163260</td>\n",
              "      <td>43.315845</td>\n",
              "      <td>0.000000</td>\n",
              "      <td>35.000000</td>\n",
              "      <td>68.000000</td>\n",
              "      <td>105.000000</td>\n",
              "      <td>1.610000e+02</td>\n",
              "    </tr>\n",
              "    <tr>\n",
              "      <th>Total Collection Amount</th>\n",
              "      <td>67463.0</td>\n",
              "      <td>146.467990</td>\n",
              "      <td>744.382233</td>\n",
              "      <td>1.000000</td>\n",
              "      <td>24.000000</td>\n",
              "      <td>36.000000</td>\n",
              "      <td>46.000000</td>\n",
              "      <td>1.642100e+04</td>\n",
              "    </tr>\n",
              "    <tr>\n",
              "      <th>Total Current Balance</th>\n",
              "      <td>67463.0</td>\n",
              "      <td>159573.933638</td>\n",
              "      <td>139033.245565</td>\n",
              "      <td>617.000000</td>\n",
              "      <td>50379.000000</td>\n",
              "      <td>118369.000000</td>\n",
              "      <td>228375.000000</td>\n",
              "      <td>1.177412e+06</td>\n",
              "    </tr>\n",
              "    <tr>\n",
              "      <th>Total Revolving Credit Limit</th>\n",
              "      <td>67463.0</td>\n",
              "      <td>23123.005544</td>\n",
              "      <td>20916.699999</td>\n",
              "      <td>1000.000000</td>\n",
              "      <td>8155.500000</td>\n",
              "      <td>16733.000000</td>\n",
              "      <td>32146.500000</td>\n",
              "      <td>2.011690e+05</td>\n",
              "    </tr>\n",
              "    <tr>\n",
              "      <th>Loan Status</th>\n",
              "      <td>67463.0</td>\n",
              "      <td>0.092510</td>\n",
              "      <td>0.289747</td>\n",
              "      <td>0.000000</td>\n",
              "      <td>0.000000</td>\n",
              "      <td>0.000000</td>\n",
              "      <td>0.000000</td>\n",
              "      <td>1.000000e+00</td>\n",
              "    </tr>\n",
              "  </tbody>\n",
              "</table>\n",
              "</div>\n",
              "      <button class=\"colab-df-convert\" onclick=\"convertToInteractive('df-08fa1f91-ec32-4c3c-97f4-268a90b05b8a')\"\n",
              "              title=\"Convert this dataframe to an interactive table.\"\n",
              "              style=\"display:none;\">\n",
              "        \n",
              "  <svg xmlns=\"http://www.w3.org/2000/svg\" height=\"24px\"viewBox=\"0 0 24 24\"\n",
              "       width=\"24px\">\n",
              "    <path d=\"M0 0h24v24H0V0z\" fill=\"none\"/>\n",
              "    <path d=\"M18.56 5.44l.94 2.06.94-2.06 2.06-.94-2.06-.94-.94-2.06-.94 2.06-2.06.94zm-11 1L8.5 8.5l.94-2.06 2.06-.94-2.06-.94L8.5 2.5l-.94 2.06-2.06.94zm10 10l.94 2.06.94-2.06 2.06-.94-2.06-.94-.94-2.06-.94 2.06-2.06.94z\"/><path d=\"M17.41 7.96l-1.37-1.37c-.4-.4-.92-.59-1.43-.59-.52 0-1.04.2-1.43.59L10.3 9.45l-7.72 7.72c-.78.78-.78 2.05 0 2.83L4 21.41c.39.39.9.59 1.41.59.51 0 1.02-.2 1.41-.59l7.78-7.78 2.81-2.81c.8-.78.8-2.07 0-2.86zM5.41 20L4 18.59l7.72-7.72 1.47 1.35L5.41 20z\"/>\n",
              "  </svg>\n",
              "      </button>\n",
              "      \n",
              "  <style>\n",
              "    .colab-df-container {\n",
              "      display:flex;\n",
              "      flex-wrap:wrap;\n",
              "      gap: 12px;\n",
              "    }\n",
              "\n",
              "    .colab-df-convert {\n",
              "      background-color: #E8F0FE;\n",
              "      border: none;\n",
              "      border-radius: 50%;\n",
              "      cursor: pointer;\n",
              "      display: none;\n",
              "      fill: #1967D2;\n",
              "      height: 32px;\n",
              "      padding: 0 0 0 0;\n",
              "      width: 32px;\n",
              "    }\n",
              "\n",
              "    .colab-df-convert:hover {\n",
              "      background-color: #E2EBFA;\n",
              "      box-shadow: 0px 1px 2px rgba(60, 64, 67, 0.3), 0px 1px 3px 1px rgba(60, 64, 67, 0.15);\n",
              "      fill: #174EA6;\n",
              "    }\n",
              "\n",
              "    [theme=dark] .colab-df-convert {\n",
              "      background-color: #3B4455;\n",
              "      fill: #D2E3FC;\n",
              "    }\n",
              "\n",
              "    [theme=dark] .colab-df-convert:hover {\n",
              "      background-color: #434B5C;\n",
              "      box-shadow: 0px 1px 3px 1px rgba(0, 0, 0, 0.15);\n",
              "      filter: drop-shadow(0px 1px 2px rgba(0, 0, 0, 0.3));\n",
              "      fill: #FFFFFF;\n",
              "    }\n",
              "  </style>\n",
              "\n",
              "      <script>\n",
              "        const buttonEl =\n",
              "          document.querySelector('#df-08fa1f91-ec32-4c3c-97f4-268a90b05b8a button.colab-df-convert');\n",
              "        buttonEl.style.display =\n",
              "          google.colab.kernel.accessAllowed ? 'block' : 'none';\n",
              "\n",
              "        async function convertToInteractive(key) {\n",
              "          const element = document.querySelector('#df-08fa1f91-ec32-4c3c-97f4-268a90b05b8a');\n",
              "          const dataTable =\n",
              "            await google.colab.kernel.invokeFunction('convertToInteractive',\n",
              "                                                     [key], {});\n",
              "          if (!dataTable) return;\n",
              "\n",
              "          const docLinkHtml = 'Like what you see? Visit the ' +\n",
              "            '<a target=\"_blank\" href=https://colab.research.google.com/notebooks/data_table.ipynb>data table notebook</a>'\n",
              "            + ' to learn more about interactive tables.';\n",
              "          element.innerHTML = '';\n",
              "          dataTable['output_type'] = 'display_data';\n",
              "          await google.colab.output.renderOutput(dataTable, element);\n",
              "          const docLink = document.createElement('div');\n",
              "          docLink.innerHTML = docLinkHtml;\n",
              "          element.appendChild(docLink);\n",
              "        }\n",
              "      </script>\n",
              "    </div>\n",
              "  </div>\n",
              "  "
            ]
          },
          "metadata": {},
          "execution_count": 116
        }
      ]
    },
    {
      "cell_type": "markdown",
      "source": [
        "###Outliers"
      ],
      "metadata": {
        "id": "2ZadsdNARLrr"
      }
    },
    {
      "cell_type": "code",
      "source": [
        "#The numeric data\n",
        "\n",
        "#From the boxplots we see the presence of outliers. This can skew the data. \n",
        "#I am aiming for a normal distribution for my models.\n",
        "\n",
        "numeric_data = pd.DataFrame(df._get_numeric_data())\n",
        "\n",
        "fig, ax = plt.subplots(figsize = (25, 25)) #change size\n",
        "for n, col in enumerate(numeric_data.columns):\n",
        "    plt.subplot(7, 4, n+1) #Adjust rows, columns of subplots\n",
        "    numeric_data[col].plot(ax = plt.gca(), kind='box')\n",
        "    plt.title(col)\n",
        "    \n",
        "plt.show()"
      ],
      "metadata": {
        "id": "C4byUeEDROI7",
        "colab": {
          "base_uri": "https://localhost:8080/",
          "height": 1000
        },
        "outputId": "3196634e-724b-44e7-d58e-e535a6c7a074"
      },
      "execution_count": null,
      "outputs": [
        {
          "output_type": "stream",
          "name": "stderr",
          "text": [
            "<ipython-input-117-95c75d6cf2c6>:10: MatplotlibDeprecationWarning: Auto-removal of overlapping axes is deprecated since 3.6 and will be removed two minor releases later; explicitly call ax.remove() as needed.\n",
            "  plt.subplot(7, 4, n+1) #Adjust rows, columns of subplots\n"
          ]
        },
        {
          "output_type": "display_data",
          "data": {
            "text/plain": [
              "<Figure size 2500x2500 with 20 Axes>"
            ],
            "image/png": "[encoded data removed]"
          },
          "metadata": {}
        }
      ]
    },
    {
      "cell_type": "markdown",
      "source": [
        "##Summary of EDA\n",
        "\n",
        "- `ID` holds no values for our models as they are all unique and serve only as an ID of each index so I have dropped it.\n",
        "\n",
        "- No missing values and I was able to drop columns with only 1 unique value.They were: `Payment Plan` and `Accounts Delinquent`\n",
        "\n",
        "- Reduced Unique Categories of `Loan Title `to top 3 which held 90% of values previously.\n",
        "\n",
        "\n",
        "\n",
        "- No Duplicates\n",
        "\n",
        "- There are some imblanced columns which we may be able to use for some additional predictions such as:\n",
        "\n",
        "1. `Predicting Public Record` - Do they or should they?\n",
        "\n",
        "2. `Predicting Collections` - Collection 12 months Medical: total collections in last 12 months - excluding medical collections\n",
        "\n",
        "3. Predicting `Loan Status` - Default or not\n",
        "\n",
        "- None of the features appear to be highly correlated to each other\n",
        "\n",
        "- We have skewed data that we can reduce to make more normalized\n",
        "\n",
        "- Data is on different scale so as a standard we must scale it.\n",
        "\n",
        "- There are outliers in the numeric data which will need to be handled.\n"
      ],
      "metadata": {
        "id": "ozzMz6fIQ9ba"
      }
    },
    {
      "cell_type": "code",
      "source": [
        "#Too many classes with 41. No way of interpreting or binning\n",
        "df = df.drop('Batch Enrolled',axis=1)"
      ],
      "metadata": {
        "id": "WvLB4Yv5InP6"
      },
      "execution_count": null,
      "outputs": []
    },
    {
      "cell_type": "markdown",
      "source": [
        "##Preprocessing Pipelines\n",
        "\n",
        "I will use 3 different pipelines for preprocessing the data before moving onto Feature Selection"
      ],
      "metadata": {
        "id": "cKw358BmqXsB"
      }
    },
    {
      "cell_type": "code",
      "source": [
        "X = df.drop('Loan Status', axis=1)\n",
        "y = df['Loan Status'] \n",
        "\n",
        "\n",
        "X_train, X_test, y_train, y_test = train_test_split(X, y, test_size =.33, random_state=2023, shuffle=True)\n",
        "\n",
        "\n",
        "\n",
        "\n"
      ],
      "metadata": {
        "id": "zZ6B-0C_lhLf"
      },
      "execution_count": null,
      "outputs": []
    },
    {
      "cell_type": "code",
      "source": [
        "## outlier handling function - IQR\n",
        "def my_iqr(col):\n",
        "  \"\"\"outlier handling via the IQR method\"\"\"\n",
        "  ### use np functions to better fit in pipeline\n",
        "  iqr = 1.5 * (np.quantile(col,.75) - np.quantile(col,.25))\n",
        "  u_bound = np.quantile(col,.75) + iqr\n",
        "  l_bound = np.quantile(col,.25) - iqr\n",
        "  col[col > u_bound], col[col < l_bound] = u_bound, l_bound\n",
        "  return col\n",
        "\n",
        "iqr_handler = FunctionTransformer(my_iqr)"
      ],
      "metadata": {
        "id": "k2aKB8IAIUTj"
      },
      "execution_count": null,
      "outputs": []
    },
    {
      "cell_type": "code",
      "source": [
        "## Handling outliers with x_bar +/- 3*StD\n",
        "def my_std(col):\n",
        "    mean = col.mean()\n",
        "    std = col.std()\n",
        "    lower_bound = mean - 3 * std\n",
        "    upper_bound = mean + 3 * std\n",
        "    col = np.where(col > upper_bound, upper_bound, col)\n",
        "    col = np.where(col < lower_bound, lower_bound, col)\n",
        "    return col\n",
        "\n",
        "std_handler = FunctionTransformer(my_std)"
      ],
      "metadata": {
        "id": "FaIAwLFhH1Uz"
      },
      "execution_count": null,
      "outputs": []
    },
    {
      "cell_type": "code",
      "source": [
        "# Define transformers for numerical and categorical columns\n",
        "\n",
        "#Process 1\n",
        "# numerical_transformer = Pipeline(steps=[\n",
        "#     ('imputer', SimpleImputer(strategy='mean')),\n",
        "#     ('iqr', iqr_handler),\n",
        "#     ('scaler', StandardScaler()),\n",
        "#     ('normalizer', Normalizer())\n",
        "# ])\n",
        "\n",
        "#-----\n",
        "\n",
        "# #Process 2| better than process 1 ans 2\n",
        "# numerical_transformer = Pipeline([\n",
        "#     ('cat_imputer', SimpleImputer(strategy='most_frequent')),## imputer - no need here but as placeholder\n",
        "#     (\"skewness\", PowerTransformer()), ## skewness removal \n",
        "#     ('outlier', std_handler), ## outlier handling \n",
        "#     (\"scaler\", StandardScaler()) ## z-score scaler \n",
        "# ])\n",
        "\n",
        "#----\n",
        "\n",
        "#Process 3\n",
        "# cont_preproc = Pipeline([\n",
        "#     ('cat_imputer', SimpleImputer(strategy='most_frequent')),## imputer - no need here but as placeholder\n",
        "#     ('outlier', iqr_handler), ## outlier handling \n",
        "#     (\"scaler\", MinMaxScaler()), ## minmax scaler \n",
        "#     (\"skewness\", PowerTransformer()) ## skewness removal \n",
        "# ])\n",
        "\n",
        "#-----\n",
        "\n",
        "#Process 2 but with RobustScaler()\n",
        "# numerical_transformer = Pipeline(steps=[\n",
        "#     (\"skewness\", PowerTransformer()), ## skewness removal \n",
        "#     # ('outlier', std_handler), ## outlier handling \n",
        "#     (\"scaler\", RobustScaler())\n",
        "# ])\n",
        "\n",
        "# Process4\n",
        "numerical_transformer = Pipeline([\n",
        "    ('cat_imputer', SimpleImputer(strategy='most_frequent')),## imputer - no need here but as placeholder\n",
        "    (\"skewness\", PowerTransformer()), ## skewness removal \n",
        "    ('outlier', std_handler), ## outlier handling \n",
        "    (\"scaler\", StandardScaler()) ## z-score scaler \n",
        "])\n",
        "\n",
        "\n",
        "\n",
        "#---------\n",
        "\n",
        "#Categorical\n",
        "categorical_transformer = Pipeline(steps=[\n",
        "    ('imputer', SimpleImputer(strategy='constant', fill_value='missing')),\n",
        "    ('onehot', OneHotEncoder(handle_unknown='ignore', sparse = False))\n",
        "])"
      ],
      "metadata": {
        "id": "fQutJ7LtWwhk"
      },
      "execution_count": null,
      "outputs": []
    },
    {
      "cell_type": "code",
      "source": [
        "#Categorical and numeric columns\n",
        "\n",
        "categorical_columns = df.select_dtypes(include=['object', 'category']).columns\n",
        "\n",
        "#Sliced to exclude our target variable Loan Status\n",
        "numerical_columns = df.select_dtypes(include=['int64', 'float64']).columns[:-1]\n",
        "\n",
        "# Combine transformers using ColumnTransformer\n",
        "preprocessor = ColumnTransformer(\n",
        "    transformers=[\n",
        "        ('num', numerical_transformer, numerical_columns),\n",
        "        ('cat', categorical_transformer, categorical_columns)\n",
        "    ],remainder = 'passthrough')\n",
        "\n",
        "\n",
        "pipeline = Pipeline(steps=[\n",
        "    ('preprocessor', preprocessor)\n",
        "])"
      ],
      "metadata": {
        "id": "uIutS2daQN-a"
      },
      "execution_count": null,
      "outputs": []
    },
    {
      "cell_type": "code",
      "source": [
        "# Apply the pipeline to your dataset\n",
        "X = df.drop('Loan Status', axis=1)\n",
        "y = df['Loan Status'] \n",
        "\n",
        "\n",
        "\n",
        "#Preprocessed Feature Data\n",
        "Xp = pipeline.fit_transform(X)\n",
        "\n"
      ],
      "metadata": {
        "id": "oB98Bb6cWLGX",
        "colab": {
          "base_uri": "https://localhost:8080/"
        },
        "outputId": "62f074ba-e4a2-42bc-a408-0c971fdeb6de"
      },
      "execution_count": null,
      "outputs": [
        {
          "output_type": "stream",
          "name": "stderr",
          "text": [
            "/usr/local/lib/python3.10/dist-packages/sklearn/preprocessing/_encoders.py:868: FutureWarning: `sparse` was renamed to `sparse_output` in version 1.2 and will be removed in 1.4. `sparse_output` is ignored unless you leave `sparse` to its default value.\n",
            "  warnings.warn(\n"
          ]
        }
      ]
    },
    {
      "cell_type": "code",
      "source": [
        "#column names will have to be re-added so we can dinetify our features for feature selection\n",
        "Xp\n"
      ],
      "metadata": {
        "id": "v-91a3vpZs4Q"
      },
      "execution_count": null,
      "outputs": []
    },
    {
      "cell_type": "code",
      "source": [
        "transformed_cols = np.concatenate((X[numerical_columns].columns.values, OneHotEncoder().fit(X[categorical_columns]).get_feature_names_out(categorical_columns)))\n",
        "transformed_cols"
      ],
      "metadata": {
        "id": "l4Cmj6pkveN-"
      },
      "execution_count": null,
      "outputs": []
    },
    {
      "cell_type": "code",
      "source": [
        "Xp_df = pd.DataFrame(Xp, columns=transformed_cols)\n",
        "\n",
        "Xp_df"
      ],
      "metadata": {
        "id": "xyAa5WBpxzY1",
        "colab": {
          "base_uri": "https://localhost:8080/",
          "height": 502
        },
        "outputId": "e504f81a-0ac0-48d2-a103-ec2b6cec5c1c"
      },
      "execution_count": null,
      "outputs": [
        {
          "output_type": "execute_result",
          "data": {
            "text/plain": [
              "       Loan Amount  Funded Amount  Funded Amount Investor  Interest Rate  \\\n",
              "0        -0.765259       1.655879               -0.169689      -0.082146   \n",
              "1        -1.840201      -0.297990               -0.194082       0.217592   \n",
              "2         1.288447      -0.745775                1.084240       0.297883   \n",
              "3        -0.603201      -1.251610                0.653691       1.266635   \n",
              "4         0.108993      -0.109194                0.035215       0.892288   \n",
              "...            ...            ...                     ...            ...   \n",
              "67458    -0.286341      -1.277656               -0.024694      -0.597637   \n",
              "67459    -1.011149      -0.439813                0.353791      -0.422486   \n",
              "67460    -0.006912       1.700282               -0.169673       1.840255   \n",
              "67461     0.071591      -1.806831                1.057601       0.455883   \n",
              "67462    -0.071608       1.496353                0.141189       1.118890   \n",
              "\n",
              "       Home Ownership  Debit to Income  Delinquency - two years  Open Account  \\\n",
              "0            1.783116        -0.809044                 1.818119      0.021621   \n",
              "1           -1.227532        -0.920228                -0.544000     -0.192084   \n",
              "2            0.553892         0.596216                -0.544000      0.215120   \n",
              "3            0.883294        -0.588780                 1.818119     -1.755206   \n",
              "4           -0.988170        -0.692570                 1.818119      0.021621   \n",
              "...               ...              ...                      ...           ...   \n",
              "67458        0.381645         0.592576                 1.818119      0.021621   \n",
              "67459       -0.130796        -0.632143                -0.544000     -0.192084   \n",
              "67460       -1.541888        -1.604280                -0.544000     -1.755206   \n",
              "67461        0.667838        -1.991474                -0.544000      0.215120   \n",
              "67462        0.826008        -0.838564                -0.544000      1.965482   \n",
              "\n",
              "       Revolving Balance  Revolving Utilities  ...  Public Record_1  \\\n",
              "0               1.757209             0.981326  ...              0.0   \n",
              "1              -1.443207             1.133680  ...              0.0   \n",
              "2              -0.905813            -2.204863  ...              0.0   \n",
              "3               1.016785             0.644297  ...              0.0   \n",
              "4              -1.031701             1.449349  ...              1.0   \n",
              "...                  ...                  ...  ...              ...   \n",
              "67458          -0.257036             2.020621  ...              0.0   \n",
              "67459           0.607105            -1.638808  ...              0.0   \n",
              "67460          -0.775733            -2.227589  ...              1.0   \n",
              "67461          -1.216626             0.689994  ...              0.0   \n",
              "67462           0.490728             1.287676  ...              0.0   \n",
              "\n",
              "       Public Record_2  Public Record_3  Public Record_4  \\\n",
              "0                  0.0              0.0              0.0   \n",
              "1                  0.0              0.0              0.0   \n",
              "2                  0.0              0.0              0.0   \n",
              "3                  0.0              0.0              0.0   \n",
              "4                  0.0              0.0              0.0   \n",
              "...                ...              ...              ...   \n",
              "67458              0.0              0.0              0.0   \n",
              "67459              0.0              0.0              0.0   \n",
              "67460              0.0              0.0              0.0   \n",
              "67461              0.0              0.0              0.0   \n",
              "67462              0.0              0.0              0.0   \n",
              "\n",
              "       Initial List Status_f  Initial List Status_w  \\\n",
              "0                        0.0                    1.0   \n",
              "1                        1.0                    0.0   \n",
              "2                        0.0                    1.0   \n",
              "3                        0.0                    1.0   \n",
              "4                        0.0                    1.0   \n",
              "...                      ...                    ...   \n",
              "67458                    0.0                    1.0   \n",
              "67459                    0.0                    1.0   \n",
              "67460                    0.0                    1.0   \n",
              "67461                    1.0                    0.0   \n",
              "67462                    1.0                    0.0   \n",
              "\n",
              "       Collection 12 months Medical_0  Collection 12 months Medical_1  \\\n",
              "0                                 1.0                             0.0   \n",
              "1                                 1.0                             0.0   \n",
              "2                                 1.0                             0.0   \n",
              "3                                 1.0                             0.0   \n",
              "4                                 1.0                             0.0   \n",
              "...                               ...                             ...   \n",
              "67458                             1.0                             0.0   \n",
              "67459                             1.0                             0.0   \n",
              "67460                             1.0                             0.0   \n",
              "67461                             1.0                             0.0   \n",
              "67462                             1.0                             0.0   \n",
              "\n",
              "       Application Type_INDIVIDUAL  Application Type_JOINT  \n",
              "0                              1.0                     0.0  \n",
              "1                              1.0                     0.0  \n",
              "2                              1.0                     0.0  \n",
              "3                              1.0                     0.0  \n",
              "4                              1.0                     0.0  \n",
              "...                            ...                     ...  \n",
              "67458                          1.0                     0.0  \n",
              "67459                          1.0                     0.0  \n",
              "67460                          1.0                     0.0  \n",
              "67461                          1.0                     0.0  \n",
              "67462                          1.0                     0.0  \n",
              "\n",
              "[67463 rows x 90 columns]"
            ],
            "text/html": [
              "\n",
              "  <div id=\"df-aa606afb-c5eb-49e4-aa55-51426e8be1a5\">\n",
              "    <div class=\"colab-df-container\">\n",
              "      <div>\n",
              "<style scoped>\n",
              "    .dataframe tbody tr th:only-of-type {\n",
              "        vertical-align: middle;\n",
              "    }\n",
              "\n",
              "    .dataframe tbody tr th {\n",
              "        vertical-align: top;\n",
              "    }\n",
              "\n",
              "    .dataframe thead th {\n",
              "        text-align: right;\n",
              "    }\n",
              "</style>\n",
              "<table border=\"1\" class=\"dataframe\">\n",
              "  <thead>\n",
              "    <tr style=\"text-align: right;\">\n",
              "      <th></th>\n",
              "      <th>Loan Amount</th>\n",
              "      <th>Funded Amount</th>\n",
              "      <th>Funded Amount Investor</th>\n",
              "      <th>Interest Rate</th>\n",
              "      <th>Home Ownership</th>\n",
              "      <th>Debit to Income</th>\n",
              "      <th>Delinquency - two years</th>\n",
              "      <th>Open Account</th>\n",
              "      <th>Revolving Balance</th>\n",
              "      <th>Revolving Utilities</th>\n",
              "      <th>...</th>\n",
              "      <th>Public Record_1</th>\n",
              "      <th>Public Record_2</th>\n",
              "      <th>Public Record_3</th>\n",
              "      <th>Public Record_4</th>\n",
              "      <th>Initial List Status_f</th>\n",
              "      <th>Initial List Status_w</th>\n",
              "      <th>Collection 12 months Medical_0</th>\n",
              "      <th>Collection 12 months Medical_1</th>\n",
              "      <th>Application Type_INDIVIDUAL</th>\n",
              "      <th>Application Type_JOINT</th>\n",
              "    </tr>\n",
              "  </thead>\n",
              "  <tbody>\n",
              "    <tr>\n",
              "      <th>0</th>\n",
              "      <td>-0.765259</td>\n",
              "      <td>1.655879</td>\n",
              "      <td>-0.169689</td>\n",
              "      <td>-0.082146</td>\n",
              "      <td>1.783116</td>\n",
              "      <td>-0.809044</td>\n",
              "      <td>1.818119</td>\n",
              "      <td>0.021621</td>\n",
              "      <td>1.757209</td>\n",
              "      <td>0.981326</td>\n",
              "      <td>...</td>\n",
              "      <td>0.0</td>\n",
              "      <td>0.0</td>\n",
              "      <td>0.0</td>\n",
              "      <td>0.0</td>\n",
              "      <td>0.0</td>\n",
              "      <td>1.0</td>\n",
              "      <td>1.0</td>\n",
              "      <td>0.0</td>\n",
              "      <td>1.0</td>\n",
              "      <td>0.0</td>\n",
              "    </tr>\n",
              "    <tr>\n",
              "      <th>1</th>\n",
              "      <td>-1.840201</td>\n",
              "      <td>-0.297990</td>\n",
              "      <td>-0.194082</td>\n",
              "      <td>0.217592</td>\n",
              "      <td>-1.227532</td>\n",
              "      <td>-0.920228</td>\n",
              "      <td>-0.544000</td>\n",
              "      <td>-0.192084</td>\n",
              "      <td>-1.443207</td>\n",
              "      <td>1.133680</td>\n",
              "      <td>...</td>\n",
              "      <td>0.0</td>\n",
              "      <td>0.0</td>\n",
              "      <td>0.0</td>\n",
              "      <td>0.0</td>\n",
              "      <td>1.0</td>\n",
              "      <td>0.0</td>\n",
              "      <td>1.0</td>\n",
              "      <td>0.0</td>\n",
              "      <td>1.0</td>\n",
              "      <td>0.0</td>\n",
              "    </tr>\n",
              "    <tr>\n",
              "      <th>2</th>\n",
              "      <td>1.288447</td>\n",
              "      <td>-0.745775</td>\n",
              "      <td>1.084240</td>\n",
              "      <td>0.297883</td>\n",
              "      <td>0.553892</td>\n",
              "      <td>0.596216</td>\n",
              "      <td>-0.544000</td>\n",
              "      <td>0.215120</td>\n",
              "      <td>-0.905813</td>\n",
              "      <td>-2.204863</td>\n",
              "      <td>...</td>\n",
              "      <td>0.0</td>\n",
              "      <td>0.0</td>\n",
              "      <td>0.0</td>\n",
              "      <td>0.0</td>\n",
              "      <td>0.0</td>\n",
              "      <td>1.0</td>\n",
              "      <td>1.0</td>\n",
              "      <td>0.0</td>\n",
              "      <td>1.0</td>\n",
              "      <td>0.0</td>\n",
              "    </tr>\n",
              "    <tr>\n",
              "      <th>3</th>\n",
              "      <td>-0.603201</td>\n",
              "      <td>-1.251610</td>\n",
              "      <td>0.653691</td>\n",
              "      <td>1.266635</td>\n",
              "      <td>0.883294</td>\n",
              "      <td>-0.588780</td>\n",
              "      <td>1.818119</td>\n",
              "      <td>-1.755206</td>\n",
              "      <td>1.016785</td>\n",
              "      <td>0.644297</td>\n",
              "      <td>...</td>\n",
              "      <td>0.0</td>\n",
              "      <td>0.0</td>\n",
              "      <td>0.0</td>\n",
              "      <td>0.0</td>\n",
              "      <td>0.0</td>\n",
              "      <td>1.0</td>\n",
              "      <td>1.0</td>\n",
              "      <td>0.0</td>\n",
              "      <td>1.0</td>\n",
              "      <td>0.0</td>\n",
              "    </tr>\n",
              "    <tr>\n",
              "      <th>4</th>\n",
              "      <td>0.108993</td>\n",
              "      <td>-0.109194</td>\n",
              "      <td>0.035215</td>\n",
              "      <td>0.892288</td>\n",
              "      <td>-0.988170</td>\n",
              "      <td>-0.692570</td>\n",
              "      <td>1.818119</td>\n",
              "      <td>0.021621</td>\n",
              "      <td>-1.031701</td>\n",
              "      <td>1.449349</td>\n",
              "      <td>...</td>\n",
              "      <td>1.0</td>\n",
              "      <td>0.0</td>\n",
              "      <td>0.0</td>\n",
              "      <td>0.0</td>\n",
              "      <td>0.0</td>\n",
              "      <td>1.0</td>\n",
              "      <td>1.0</td>\n",
              "      <td>0.0</td>\n",
              "      <td>1.0</td>\n",
              "      <td>0.0</td>\n",
              "    </tr>\n",
              "    <tr>\n",
              "      <th>...</th>\n",
              "      <td>...</td>\n",
              "      <td>...</td>\n",
              "      <td>...</td>\n",
              "      <td>...</td>\n",
              "      <td>...</td>\n",
              "      <td>...</td>\n",
              "      <td>...</td>\n",
              "      <td>...</td>\n",
              "      <td>...</td>\n",
              "      <td>...</td>\n",
              "      <td>...</td>\n",
              "      <td>...</td>\n",
              "      <td>...</td>\n",
              "      <td>...</td>\n",
              "      <td>...</td>\n",
              "      <td>...</td>\n",
              "      <td>...</td>\n",
              "      <td>...</td>\n",
              "      <td>...</td>\n",
              "      <td>...</td>\n",
              "      <td>...</td>\n",
              "    </tr>\n",
              "    <tr>\n",
              "      <th>67458</th>\n",
              "      <td>-0.286341</td>\n",
              "      <td>-1.277656</td>\n",
              "      <td>-0.024694</td>\n",
              "      <td>-0.597637</td>\n",
              "      <td>0.381645</td>\n",
              "      <td>0.592576</td>\n",
              "      <td>1.818119</td>\n",
              "      <td>0.021621</td>\n",
              "      <td>-0.257036</td>\n",
              "      <td>2.020621</td>\n",
              "      <td>...</td>\n",
              "      <td>0.0</td>\n",
              "      <td>0.0</td>\n",
              "      <td>0.0</td>\n",
              "      <td>0.0</td>\n",
              "      <td>0.0</td>\n",
              "      <td>1.0</td>\n",
              "      <td>1.0</td>\n",
              "      <td>0.0</td>\n",
              "      <td>1.0</td>\n",
              "      <td>0.0</td>\n",
              "    </tr>\n",
              "    <tr>\n",
              "      <th>67459</th>\n",
              "      <td>-1.011149</td>\n",
              "      <td>-0.439813</td>\n",
              "      <td>0.353791</td>\n",
              "      <td>-0.422486</td>\n",
              "      <td>-0.130796</td>\n",
              "      <td>-0.632143</td>\n",
              "      <td>-0.544000</td>\n",
              "      <td>-0.192084</td>\n",
              "      <td>0.607105</td>\n",
              "      <td>-1.638808</td>\n",
              "      <td>...</td>\n",
              "      <td>0.0</td>\n",
              "      <td>0.0</td>\n",
              "      <td>0.0</td>\n",
              "      <td>0.0</td>\n",
              "      <td>0.0</td>\n",
              "      <td>1.0</td>\n",
              "      <td>1.0</td>\n",
              "      <td>0.0</td>\n",
              "      <td>1.0</td>\n",
              "      <td>0.0</td>\n",
              "    </tr>\n",
              "    <tr>\n",
              "      <th>67460</th>\n",
              "      <td>-0.006912</td>\n",
              "      <td>1.700282</td>\n",
              "      <td>-0.169673</td>\n",
              "      <td>1.840255</td>\n",
              "      <td>-1.541888</td>\n",
              "      <td>-1.604280</td>\n",
              "      <td>-0.544000</td>\n",
              "      <td>-1.755206</td>\n",
              "      <td>-0.775733</td>\n",
              "      <td>-2.227589</td>\n",
              "      <td>...</td>\n",
              "      <td>1.0</td>\n",
              "      <td>0.0</td>\n",
              "      <td>0.0</td>\n",
              "      <td>0.0</td>\n",
              "      <td>0.0</td>\n",
              "      <td>1.0</td>\n",
              "      <td>1.0</td>\n",
              "      <td>0.0</td>\n",
              "      <td>1.0</td>\n",
              "      <td>0.0</td>\n",
              "    </tr>\n",
              "    <tr>\n",
              "      <th>67461</th>\n",
              "      <td>0.071591</td>\n",
              "      <td>-1.806831</td>\n",
              "      <td>1.057601</td>\n",
              "      <td>0.455883</td>\n",
              "      <td>0.667838</td>\n",
              "      <td>-1.991474</td>\n",
              "      <td>-0.544000</td>\n",
              "      <td>0.215120</td>\n",
              "      <td>-1.216626</td>\n",
              "      <td>0.689994</td>\n",
              "      <td>...</td>\n",
              "      <td>0.0</td>\n",
              "      <td>0.0</td>\n",
              "      <td>0.0</td>\n",
              "      <td>0.0</td>\n",
              "      <td>1.0</td>\n",
              "      <td>0.0</td>\n",
              "      <td>1.0</td>\n",
              "      <td>0.0</td>\n",
              "      <td>1.0</td>\n",
              "      <td>0.0</td>\n",
              "    </tr>\n",
              "    <tr>\n",
              "      <th>67462</th>\n",
              "      <td>-0.071608</td>\n",
              "      <td>1.496353</td>\n",
              "      <td>0.141189</td>\n",
              "      <td>1.118890</td>\n",
              "      <td>0.826008</td>\n",
              "      <td>-0.838564</td>\n",
              "      <td>-0.544000</td>\n",
              "      <td>1.965482</td>\n",
              "      <td>0.490728</td>\n",
              "      <td>1.287676</td>\n",
              "      <td>...</td>\n",
              "      <td>0.0</td>\n",
              "      <td>0.0</td>\n",
              "      <td>0.0</td>\n",
              "      <td>0.0</td>\n",
              "      <td>1.0</td>\n",
              "      <td>0.0</td>\n",
              "      <td>1.0</td>\n",
              "      <td>0.0</td>\n",
              "      <td>1.0</td>\n",
              "      <td>0.0</td>\n",
              "    </tr>\n",
              "  </tbody>\n",
              "</table>\n",
              "<p>67463 rows × 90 columns</p>\n",
              "</div>\n",
              "      <button class=\"colab-df-convert\" onclick=\"convertToInteractive('df-aa606afb-c5eb-49e4-aa55-51426e8be1a5')\"\n",
              "              title=\"Convert this dataframe to an interactive table.\"\n",
              "              style=\"display:none;\">\n",
              "        \n",
              "  <svg xmlns=\"http://www.w3.org/2000/svg\" height=\"24px\"viewBox=\"0 0 24 24\"\n",
              "       width=\"24px\">\n",
              "    <path d=\"M0 0h24v24H0V0z\" fill=\"none\"/>\n",
              "    <path d=\"M18.56 5.44l.94 2.06.94-2.06 2.06-.94-2.06-.94-.94-2.06-.94 2.06-2.06.94zm-11 1L8.5 8.5l.94-2.06 2.06-.94-2.06-.94L8.5 2.5l-.94 2.06-2.06.94zm10 10l.94 2.06.94-2.06 2.06-.94-2.06-.94-.94-2.06-.94 2.06-2.06.94z\"/><path d=\"M17.41 7.96l-1.37-1.37c-.4-.4-.92-.59-1.43-.59-.52 0-1.04.2-1.43.59L10.3 9.45l-7.72 7.72c-.78.78-.78 2.05 0 2.83L4 21.41c.39.39.9.59 1.41.59.51 0 1.02-.2 1.41-.59l7.78-7.78 2.81-2.81c.8-.78.8-2.07 0-2.86zM5.41 20L4 18.59l7.72-7.72 1.47 1.35L5.41 20z\"/>\n",
              "  </svg>\n",
              "      </button>\n",
              "      \n",
              "  <style>\n",
              "    .colab-df-container {\n",
              "      display:flex;\n",
              "      flex-wrap:wrap;\n",
              "      gap: 12px;\n",
              "    }\n",
              "\n",
              "    .colab-df-convert {\n",
              "      background-color: #E8F0FE;\n",
              "      border: none;\n",
              "      border-radius: 50%;\n",
              "      cursor: pointer;\n",
              "      display: none;\n",
              "      fill: #1967D2;\n",
              "      height: 32px;\n",
              "      padding: 0 0 0 0;\n",
              "      width: 32px;\n",
              "    }\n",
              "\n",
              "    .colab-df-convert:hover {\n",
              "      background-color: #E2EBFA;\n",
              "      box-shadow: 0px 1px 2px rgba(60, 64, 67, 0.3), 0px 1px 3px 1px rgba(60, 64, 67, 0.15);\n",
              "      fill: #174EA6;\n",
              "    }\n",
              "\n",
              "    [theme=dark] .colab-df-convert {\n",
              "      background-color: #3B4455;\n",
              "      fill: #D2E3FC;\n",
              "    }\n",
              "\n",
              "    [theme=dark] .colab-df-convert:hover {\n",
              "      background-color: #434B5C;\n",
              "      box-shadow: 0px 1px 3px 1px rgba(0, 0, 0, 0.15);\n",
              "      filter: drop-shadow(0px 1px 2px rgba(0, 0, 0, 0.3));\n",
              "      fill: #FFFFFF;\n",
              "    }\n",
              "  </style>\n",
              "\n",
              "      <script>\n",
              "        const buttonEl =\n",
              "          document.querySelector('#df-aa606afb-c5eb-49e4-aa55-51426e8be1a5 button.colab-df-convert');\n",
              "        buttonEl.style.display =\n",
              "          google.colab.kernel.accessAllowed ? 'block' : 'none';\n",
              "\n",
              "        async function convertToInteractive(key) {\n",
              "          const element = document.querySelector('#df-aa606afb-c5eb-49e4-aa55-51426e8be1a5');\n",
              "          const dataTable =\n",
              "            await google.colab.kernel.invokeFunction('convertToInteractive',\n",
              "                                                     [key], {});\n",
              "          if (!dataTable) return;\n",
              "\n",
              "          const docLinkHtml = 'Like what you see? Visit the ' +\n",
              "            '<a target=\"_blank\" href=https://colab.research.google.com/notebooks/data_table.ipynb>data table notebook</a>'\n",
              "            + ' to learn more about interactive tables.';\n",
              "          element.innerHTML = '';\n",
              "          dataTable['output_type'] = 'display_data';\n",
              "          await google.colab.output.renderOutput(dataTable, element);\n",
              "          const docLink = document.createElement('div');\n",
              "          docLink.innerHTML = docLinkHtml;\n",
              "          element.appendChild(docLink);\n",
              "        }\n",
              "      </script>\n",
              "    </div>\n",
              "  </div>\n",
              "  "
            ]
          },
          "metadata": {},
          "execution_count": 127
        }
      ]
    },
    {
      "cell_type": "markdown",
      "source": [
        "###Splitting Data"
      ],
      "metadata": {
        "id": "Xcrn3ubFGsdw"
      }
    },
    {
      "cell_type": "code",
      "source": [
        "X_train, X_test, y_train, y_test = train_test_split(Xp_df, y, test_size=.20,  random_state=2023, stratify=y)"
      ],
      "metadata": {
        "id": "fCqEss6wE_Dm"
      },
      "execution_count": null,
      "outputs": []
    },
    {
      "cell_type": "markdown",
      "source": [
        "##Feature Selection"
      ],
      "metadata": {
        "id": "6eLzC282gUK9"
      }
    },
    {
      "cell_type": "code",
      "source": [
        "feature_df = pd.concat([X_train, y_train], axis=1)\n",
        "\n",
        "feature_df"
      ],
      "metadata": {
        "id": "LDVlNmimzHoQ"
      },
      "execution_count": null,
      "outputs": []
    },
    {
      "cell_type": "code",
      "source": [
        "# define the feature list to select from\n",
        "feature_lst = list(feature_df.iloc[:,:-1].columns)\n",
        "len(feature_lst)"
      ],
      "metadata": {
        "id": "n9y_uu9gz-tA",
        "colab": {
          "base_uri": "https://localhost:8080/"
        },
        "outputId": "dbf07915-67b4-4e9a-cbab-152ec4fd1a01"
      },
      "execution_count": null,
      "outputs": [
        {
          "output_type": "execute_result",
          "data": {
            "text/plain": [
              "90"
            ]
          },
          "metadata": {},
          "execution_count": 130
        }
      ]
    },
    {
      "cell_type": "code",
      "source": [
        "feature_lst"
      ],
      "metadata": {
        "id": "2al3vworjp75",
        "colab": {
          "base_uri": "https://localhost:8080/"
        },
        "outputId": "2cf4e03e-0c7b-4851-c377-91d8686732ca"
      },
      "execution_count": null,
      "outputs": [
        {
          "output_type": "execute_result",
          "data": {
            "text/plain": [
              "['Loan Amount',\n",
              " 'Funded Amount',\n",
              " 'Funded Amount Investor',\n",
              " 'Interest Rate',\n",
              " 'Home Ownership',\n",
              " 'Debit to Income',\n",
              " 'Delinquency - two years',\n",
              " 'Open Account',\n",
              " 'Revolving Balance',\n",
              " 'Revolving Utilities',\n",
              " 'Total Accounts',\n",
              " 'Total Received Interest',\n",
              " 'Total Received Late Fee',\n",
              " 'Recoveries',\n",
              " 'Collection Recovery Fee',\n",
              " 'Last week Pay',\n",
              " 'Total Collection Amount',\n",
              " 'Total Current Balance',\n",
              " 'Total Revolving Credit Limit',\n",
              " 'Term_36',\n",
              " 'Term_58',\n",
              " 'Term_59',\n",
              " 'Grade_A',\n",
              " 'Grade_B',\n",
              " 'Grade_C',\n",
              " 'Grade_D',\n",
              " 'Grade_E',\n",
              " 'Grade_F',\n",
              " 'Grade_G',\n",
              " 'Sub Grade_A1',\n",
              " 'Sub Grade_A2',\n",
              " 'Sub Grade_A3',\n",
              " 'Sub Grade_A4',\n",
              " 'Sub Grade_A5',\n",
              " 'Sub Grade_B1',\n",
              " 'Sub Grade_B2',\n",
              " 'Sub Grade_B3',\n",
              " 'Sub Grade_B4',\n",
              " 'Sub Grade_B5',\n",
              " 'Sub Grade_C1',\n",
              " 'Sub Grade_C2',\n",
              " 'Sub Grade_C3',\n",
              " 'Sub Grade_C4',\n",
              " 'Sub Grade_C5',\n",
              " 'Sub Grade_D1',\n",
              " 'Sub Grade_D2',\n",
              " 'Sub Grade_D3',\n",
              " 'Sub Grade_D4',\n",
              " 'Sub Grade_D5',\n",
              " 'Sub Grade_E1',\n",
              " 'Sub Grade_E2',\n",
              " 'Sub Grade_E3',\n",
              " 'Sub Grade_E4',\n",
              " 'Sub Grade_E5',\n",
              " 'Sub Grade_F1',\n",
              " 'Sub Grade_F2',\n",
              " 'Sub Grade_F3',\n",
              " 'Sub Grade_F4',\n",
              " 'Sub Grade_F5',\n",
              " 'Sub Grade_G1',\n",
              " 'Sub Grade_G2',\n",
              " 'Sub Grade_G3',\n",
              " 'Sub Grade_G4',\n",
              " 'Sub Grade_G5',\n",
              " 'Employment Duration_MORTGAGE',\n",
              " 'Employment Duration_OWN',\n",
              " 'Employment Duration_RENT',\n",
              " 'Verification Status_Not Verified',\n",
              " 'Verification Status_Source Verified',\n",
              " 'Verification Status_Verified',\n",
              " 'Loan Title_Credit card refinancing',\n",
              " 'Loan Title_Debt Consolidation',\n",
              " 'Loan Title_Other',\n",
              " 'Inquires - six months_0',\n",
              " 'Inquires - six months_1',\n",
              " 'Inquires - six months_2',\n",
              " 'Inquires - six months_3',\n",
              " 'Inquires - six months_4',\n",
              " 'Inquires - six months_5',\n",
              " 'Public Record_0',\n",
              " 'Public Record_1',\n",
              " 'Public Record_2',\n",
              " 'Public Record_3',\n",
              " 'Public Record_4',\n",
              " 'Initial List Status_f',\n",
              " 'Initial List Status_w',\n",
              " 'Collection 12 months Medical_0',\n",
              " 'Collection 12 months Medical_1',\n",
              " 'Application Type_INDIVIDUAL',\n",
              " 'Application Type_JOINT']"
            ]
          },
          "metadata": {},
          "execution_count": 131
        }
      ]
    },
    {
      "cell_type": "code",
      "source": [
        "def feature_selector(X, y, model, names, _method=\"topk\", n=int(X.shape[1]/2), fit_X=False, thres = 0.1):\n",
        "  \"\"\"voting based feature selector\n",
        "  - _method: \"topk\" for top-K method (default), \"cutoff\" for cut-off based method\n",
        "  - n: number of features to be selected. only available for top-K method - default half of the total features\n",
        "  - thres: cut-off threshold (default 0.1), only availabel for cutoff method\n",
        "  - fit_X: fit_transform X or just return indices\n",
        "  TODO: include support for regression problems\n",
        "  \"\"\"\n",
        "  #### Placeholder for tests\n",
        "  # X.shape[0] == y.shape[0]\n",
        "  if names: # if given feature names\n",
        "    feature_names = np.array(names)\n",
        "  else: # otherwise use location\n",
        "    feature_names = np.array([\"X%s\" % x for x in range(len(X.shape[0]))])\n",
        "  if _method == 'topk':\n",
        "    #### np.argpartition gets the indices of the largest n element from the array in ascending order\n",
        "    #### [::-1] reverse the order\n",
        "    ############################################################################\n",
        "    #### IMPORTANT: \n",
        "    #### use `chi2` as the `score_func` when doing categorical features - values has to be non-negative\n",
        "    #### use `f_classif` as the `score_func` when doing categorical and continuous feautures\n",
        "    #### use `f_regression` as the `score_func` when doing continuous feautures\n",
        "    ############################################################################\n",
        "    corr_features = list(np.argpartition(SelectKBest(score_func=f_classif, k=n).fit(X,y).scores_, -n)[-n:][::-1])\n",
        "    #### binary masking on features, use np.where() to get the indices of selected\n",
        "    rfe_features = list(np.where(RFE(model, n_features_to_select=n, step=1).fit(X, y).support_)[0])\n",
        "    #### argsort get sorted indices by values, ::-1] reverse the asceding order\n",
        "    ridge_features = list(np.argsort(Ridge(alpha=1.0).fit(X, y).coef_)[-n:][::-1])\n",
        "    #### using ExtraTree\n",
        "    extratree_features = list(np.argsort(ExtraTreesClassifier().fit(X, y).feature_importances_)[-n:][::-1])\n",
        "    ### using Random Forest:\n",
        "    rf_features = list(np.argsort(RandomForestClassifier().fit(X, y).feature_importances_)[-n:][::-1])\n",
        "    print(\"Using the Top-K method: \")\n",
        "    print(\"Selected features by correlation: \", feature_names[corr_features])\n",
        "    print(\"Selected features by RFE: \", feature_names[rfe_features])\n",
        "    print(\"Selected features by Ridge coefficients: \", feature_names[ridge_features])\n",
        "    print(\"Selected features by Extra Tree feature importance: \", feature_names[extratree_features])\n",
        "    print(\"Selected features by Random Forest feature importance: \", feature_names[rf_features])\n",
        "\n",
        "  elif _method == 'cutoff':\n",
        "    corr_features, rfe_features = list(), list() #### N/A\n",
        "    ridge_features = list(np.where(Ridge(alpha=1.0).fit(X, y).coef_ > thres)[0])\n",
        "    extratree_features = list(np.where(ExtraTreesClassifier().fit(X, y).feature_importances_ > thres)[0])\n",
        "    rf_features = list(np.where(RandomForestClassifier().fit(X, y).feature_importances_ > thres)[0])\n",
        "    print(\"Using the Cutoff method: \")\n",
        "    # print(\"Selected features by correlation: \", feature_names[corr_features])\n",
        "    # print(\"Selected features by RFE: \", feature_names[rfe_features])\n",
        "    print(\"Selected features by Ridge coefficients: \", feature_names[ridge_features])\n",
        "    print(\"Selected features by Extra Tree feature importance: \", feature_names[extratree_features])\n",
        "    print(\"Selected features by Random Forest feature importance: \", feature_names[rf_features])\n",
        "  else:\n",
        "    return(\"Only Top-K and Cutoff methods are currently supported!\")\n",
        "\n",
        "  ######################################\n",
        "  #### combine results using voting ####\n",
        "  ######################################\n",
        "  counted = Counter(np.concatenate((corr_features, rfe_features, ridge_features, extratree_features, rf_features), axis=None)).most_common(n)\n",
        "\n",
        "  #### list of tuples (feature_index, votes)\n",
        "  counted.sort(key = lambda x: x[1], reverse=True)\n",
        "  final_select_series = pd.Series({feature_names[f]:c for f,c in counted}).sort_values(ascending=False)\n",
        "  selected_idx = sorted([f for f,c in counted])\n",
        "  assert len(selected_idx) == n\n",
        "  print(final_select_series)\n",
        "  if fit_X:\n",
        "    return(X[:,selected_idx])\n",
        "  else:\n",
        "    return(feature_names[selected_idx])"
      ],
      "metadata": {
        "id": "gIAaRlPKgWzM"
      },
      "execution_count": null,
      "outputs": []
    },
    {
      "cell_type": "code",
      "source": [
        "int(round((X_train.shape[1]/2),0))"
      ],
      "metadata": {
        "id": "Jk06OA55bfRc",
        "colab": {
          "base_uri": "https://localhost:8080/"
        },
        "outputId": "7f0e6fdd-9762-4ce9-e643-394c314be61b"
      },
      "execution_count": null,
      "outputs": [
        {
          "output_type": "execute_result",
          "data": {
            "text/plain": [
              "45"
            ]
          },
          "metadata": {},
          "execution_count": 133
        }
      ]
    },
    {
      "cell_type": "markdown",
      "source": [
        "###Feature Selector"
      ],
      "metadata": {
        "id": "kidLKdvvknEE"
      }
    },
    {
      "cell_type": "code",
      "source": [
        "feature_selector(X_train, y_train, model=RandomForestClassifier(), names=feature_lst, n=39)"
      ],
      "metadata": {
        "id": "EIVKIVR2l9xc",
        "colab": {
          "base_uri": "https://localhost:8080/"
        },
        "outputId": "4247a181-c697-473c-be72-d64c5ad90ce1"
      },
      "execution_count": null,
      "outputs": [
        {
          "output_type": "stream",
          "name": "stdout",
          "text": [
            "Using the Top-K method: \n",
            "Selected features by correlation:  ['Total Collection Amount' 'Term_58' 'Term_59' 'Grade_B'\n",
            " 'Initial List Status_w' 'Initial List Status_f' 'Public Record_4'\n",
            " 'Grade_D' 'Collection Recovery Fee' 'Total Received Interest'\n",
            " 'Public Record_0' 'Sub Grade_B3' 'Sub Grade_B5' 'Sub Grade_C1'\n",
            " 'Sub Grade_D5' 'Total Current Balance' 'Sub Grade_F2' 'Loan Title_Other'\n",
            " 'Loan Title_Debt Consolidation' 'Loan Title_Credit card refinancing'\n",
            " 'Sub Grade_G3' 'Open Account' 'Employment Duration_MORTGAGE'\n",
            " 'Employment Duration_RENT' 'Employment Duration_OWN' 'Loan Amount'\n",
            " 'Home Ownership' 'Term_36' 'Grade_C' 'Grade_E' 'Grade_F' 'Grade_G'\n",
            " 'Last week Pay' 'Public Record_2' 'Inquires - six months_4'\n",
            " 'Sub Grade_D3' 'Sub Grade_E5' 'Inquires - six months_1'\n",
            " 'Delinquency - two years']\n",
            "Selected features by RFE:  ['Loan Amount' 'Funded Amount' 'Funded Amount Investor' 'Interest Rate'\n",
            " 'Home Ownership' 'Debit to Income' 'Delinquency - two years'\n",
            " 'Open Account' 'Revolving Balance' 'Revolving Utilities' 'Total Accounts'\n",
            " 'Total Received Interest' 'Total Received Late Fee' 'Recoveries'\n",
            " 'Collection Recovery Fee' 'Last week Pay' 'Total Collection Amount'\n",
            " 'Total Current Balance' 'Total Revolving Credit Limit' 'Term_59'\n",
            " 'Grade_A' 'Grade_B' 'Grade_C' 'Grade_D' 'Grade_E' 'Sub Grade_B4'\n",
            " 'Employment Duration_MORTGAGE' 'Employment Duration_OWN'\n",
            " 'Employment Duration_RENT' 'Verification Status_Not Verified'\n",
            " 'Verification Status_Source Verified' 'Verification Status_Verified'\n",
            " 'Loan Title_Credit card refinancing' 'Loan Title_Debt Consolidation'\n",
            " 'Loan Title_Other' 'Inquires - six months_0' 'Public Record_0'\n",
            " 'Initial List Status_f' 'Initial List Status_w']\n",
            "Selected features by Ridge coefficients:  ['Sub Grade_G3' 'Inquires - six months_4' 'Public Record_4' 'Sub Grade_F2'\n",
            " 'Sub Grade_D5' 'Inquires - six months_2' 'Public Record_2' 'Grade_G'\n",
            " 'Term_36' 'Sub Grade_B5' 'Sub Grade_F3' 'Total Collection Amount'\n",
            " 'Employment Duration_OWN' 'Inquires - six months_3' 'Sub Grade_F4'\n",
            " 'Sub Grade_E4' 'Inquires - six months_0' 'Initial List Status_f'\n",
            " 'Term_59' 'Grade_F' 'Collection 12 months Medical_0'\n",
            " 'Total Current Balance' 'Sub Grade_A3' 'Loan Title_Other'\n",
            " 'Total Received Interest' 'Sub Grade_G4' 'Grade_D'\n",
            " 'Loan Title_Credit card refinancing' 'Funded Amount'\n",
            " 'Revolving Utilities' 'Delinquency - two years' 'Grade_E' 'Sub Grade_E1'\n",
            " 'Last week Pay' 'Sub Grade_C3' 'Sub Grade_G1' 'Sub Grade_F5'\n",
            " 'Home Ownership' 'Verification Status_Source Verified']\n",
            "Selected features by Extra Tree feature importance:  ['Total Accounts' 'Total Current Balance' 'Funded Amount Investor'\n",
            " 'Interest Rate' 'Loan Amount' 'Home Ownership' 'Collection Recovery Fee'\n",
            " 'Total Received Interest' 'Recoveries' 'Revolving Balance'\n",
            " 'Total Collection Amount' 'Last week Pay' 'Total Received Late Fee'\n",
            " 'Funded Amount' 'Total Revolving Credit Limit' 'Revolving Utilities'\n",
            " 'Open Account' 'Debit to Income' 'Delinquency - two years'\n",
            " 'Verification Status_Source Verified' 'Grade_C'\n",
            " 'Verification Status_Verified' 'Loan Title_Credit card refinancing'\n",
            " 'Verification Status_Not Verified' 'Loan Title_Debt Consolidation'\n",
            " 'Grade_A' 'Employment Duration_RENT' 'Employment Duration_MORTGAGE'\n",
            " 'Grade_B' 'Grade_D' 'Loan Title_Other' 'Grade_E' 'Sub Grade_B4'\n",
            " 'Sub Grade_A5' 'Sub Grade_B2' 'Inquires - six months_0' 'Sub Grade_C2'\n",
            " 'Sub Grade_C3' 'Sub Grade_D1']\n",
            "Selected features by Random Forest feature importance:  ['Funded Amount Investor' 'Total Current Balance' 'Loan Amount'\n",
            " 'Home Ownership' 'Interest Rate' 'Revolving Utilities' 'Recoveries'\n",
            " 'Debit to Income' 'Total Received Interest'\n",
            " 'Total Revolving Credit Limit' 'Funded Amount' 'Collection Recovery Fee'\n",
            " 'Revolving Balance' 'Total Received Late Fee' 'Last week Pay'\n",
            " 'Total Collection Amount' 'Total Accounts' 'Open Account'\n",
            " 'Delinquency - two years' 'Verification Status_Source Verified'\n",
            " 'Loan Title_Credit card refinancing' 'Grade_C'\n",
            " 'Loan Title_Debt Consolidation' 'Employment Duration_MORTGAGE'\n",
            " 'Employment Duration_RENT' 'Verification Status_Verified'\n",
            " 'Verification Status_Not Verified' 'Grade_B' 'Initial List Status_f'\n",
            " 'Grade_A' 'Initial List Status_w' 'Grade_D' 'Loan Title_Other' 'Grade_E'\n",
            " 'Employment Duration_OWN' 'Sub Grade_B5' 'Sub Grade_B4'\n",
            " 'Inquires - six months_0' 'Sub Grade_B2']\n",
            "Total Collection Amount                5\n",
            "Total Received Interest                5\n",
            "Total Current Balance                  5\n",
            "Loan Title_Other                       5\n",
            "Loan Title_Credit card refinancing     5\n",
            "Home Ownership                         5\n",
            "Grade_E                                5\n",
            "Last week Pay                          5\n",
            "Delinquency - two years                5\n",
            "Grade_D                                5\n",
            "Employment Duration_OWN                4\n",
            "Inquires - six months_0                4\n",
            "Verification Status_Source Verified    4\n",
            "Revolving Utilities                    4\n",
            "Funded Amount                          4\n",
            "Loan Amount                            4\n",
            "Grade_C                                4\n",
            "Employment Duration_RENT               4\n",
            "Open Account                           4\n",
            "Loan Title_Debt Consolidation          4\n",
            "Collection Recovery Fee                4\n",
            "Initial List Status_f                  4\n",
            "Grade_B                                4\n",
            "Employment Duration_MORTGAGE           4\n",
            "Total Accounts                         3\n",
            "Verification Status_Not Verified       3\n",
            "Sub Grade_B4                           3\n",
            "Grade_A                                3\n",
            "Total Revolving Credit Limit           3\n",
            "Recoveries                             3\n",
            "Total Received Late Fee                3\n",
            "Interest Rate                          3\n",
            "Revolving Balance                      3\n",
            "Debit to Income                        3\n",
            "Funded Amount Investor                 3\n",
            "Sub Grade_B5                           3\n",
            "Initial List Status_w                  3\n",
            "Term_59                                3\n",
            "Verification Status_Verified           3\n",
            "dtype: int64\n"
          ]
        },
        {
          "output_type": "execute_result",
          "data": {
            "text/plain": [
              "array(['Loan Amount', 'Funded Amount', 'Funded Amount Investor',\n",
              "       'Interest Rate', 'Home Ownership', 'Debit to Income',\n",
              "       'Delinquency - two years', 'Open Account', 'Revolving Balance',\n",
              "       'Revolving Utilities', 'Total Accounts', 'Total Received Interest',\n",
              "       'Total Received Late Fee', 'Recoveries', 'Collection Recovery Fee',\n",
              "       'Last week Pay', 'Total Collection Amount',\n",
              "       'Total Current Balance', 'Total Revolving Credit Limit', 'Term_59',\n",
              "       'Grade_A', 'Grade_B', 'Grade_C', 'Grade_D', 'Grade_E',\n",
              "       'Sub Grade_B4', 'Sub Grade_B5', 'Employment Duration_MORTGAGE',\n",
              "       'Employment Duration_OWN', 'Employment Duration_RENT',\n",
              "       'Verification Status_Not Verified',\n",
              "       'Verification Status_Source Verified',\n",
              "       'Verification Status_Verified',\n",
              "       'Loan Title_Credit card refinancing',\n",
              "       'Loan Title_Debt Consolidation', 'Loan Title_Other',\n",
              "       'Inquires - six months_0', 'Initial List Status_f',\n",
              "       'Initial List Status_w'], dtype='<U35')"
            ]
          },
          "metadata": {},
          "execution_count": 134
        }
      ]
    },
    {
      "cell_type": "code",
      "source": [
        "#Top 39\n",
        "\n",
        "top39 = ['Loan Amount', 'Funded Amount', 'Funded Amount Investor',\n",
        "       'Interest Rate', 'Home Ownership', 'Debit to Income',\n",
        "       'Delinquency - two years', 'Open Account', 'Revolving Balance',\n",
        "       'Revolving Utilities', 'Total Accounts', 'Total Received Interest',\n",
        "       'Total Received Late Fee', 'Recoveries', 'Collection Recovery Fee',\n",
        "       'Last week Pay', 'Total Collection Amount',\n",
        "       'Total Current Balance', 'Total Revolving Credit Limit', 'Term_59',\n",
        "       'Grade_A', 'Grade_B', 'Grade_C', 'Grade_D', 'Grade_E',\n",
        "       'Sub Grade_B4', 'Sub Grade_B5', 'Employment Duration_MORTGAGE',\n",
        "       'Employment Duration_OWN', 'Employment Duration_RENT',\n",
        "       'Verification Status_Not Verified',\n",
        "       'Verification Status_Source Verified',\n",
        "       'Verification Status_Verified',\n",
        "       'Loan Title_Credit card refinancing',\n",
        "       'Loan Title_Debt Consolidation', 'Loan Title_Other',\n",
        "       'Inquires - six months_0', 'Initial List Status_f',\n",
        "       'Initial List Status_w']"
      ],
      "metadata": {
        "id": "nbRvR7RzZ0zc"
      },
      "execution_count": null,
      "outputs": []
    },
    {
      "cell_type": "markdown",
      "source": [
        "###Top n Features"
      ],
      "metadata": {
        "id": "nNrdphDdkqy-"
      }
    },
    {
      "cell_type": "markdown",
      "source": [
        "##Balancing the Data with SMOTE"
      ],
      "metadata": {
        "id": "AqQwsFwOgBzr"
      }
    },
    {
      "cell_type": "code",
      "source": [
        "sm = SMOTE(random_state = 2023) \n",
        "\n",
        "# X_train = X_train[top39] reducing the number of features did not provide a better model\n",
        "\n",
        "X_train, y_train = sm.fit_resample(X_train, y_train) \n",
        "\n",
        "# I dont want the model to learn from the order of the data\n",
        "X_train, y_train = shuffle(X_train, y_train)"
      ],
      "metadata": {
        "id": "NP4TM_J2gE08"
      },
      "execution_count": null,
      "outputs": []
    },
    {
      "cell_type": "markdown",
      "source": [
        "##Model Candidacy"
      ],
      "metadata": {
        "id": "U3XcM1Y3bSfd"
      }
    },
    {
      "cell_type": "code",
      "source": [
        "models = {\n",
        "  \"dt\": DecisionTreeClassifier(random_state=RANDOM_STATE, max_depth=10),\n",
        "  \"lr\": LogisticRegression(max_iter=2000),\n",
        "  \"svc\": LinearSVC(max_iter=5000),\n",
        "  \"gnb\": GaussianNB(),\n",
        "  \"rf\": RandomForestClassifier(max_depth=10),\n",
        "  \"sgd\": SGDClassifier(loss=\"hinge\"),\n",
        "  \"gb\": GradientBoostingClassifier(), ### takes long to train, commented out for demo purpose\n",
        "  \"xgbc\" : XGBClassifier()\n",
        "\n",
        "}\n",
        "\n",
        "\n",
        "## Number of folds in k-old\n",
        "k = 10\n",
        "### f1-macro used since it's a multiclass classification problem\n",
        "### use f1 if binary\n",
        "METRICS = ['f1_macro', 'roc_auc', 'recall_weighted', 'recall'] ### also, AUC is not supported for multi-class problems\n",
        "ROUNDS = 1 ## evaluation rounds\n",
        "\n",
        "\n",
        "# combine this code with eval code from comp 1\n",
        "\n",
        "# 4 scores must be generated --> F1 Bias, Variance, AUC Bias and Variance\n",
        "\n",
        "def model_eval(X_res, y_res, models, metrics=METRICS, k=k, rounds=ROUNDS):\n",
        "  \"\"\"evaluating multiple models\"\"\"\n",
        "  res = {}\n",
        "  \n",
        "  # sm = SMOTE(random_state = RANDOM_STATE)\n",
        "  # X_res, y_res = sm.fit_resample(X1, y)\n",
        "  for model_name, classifier in models.items():\n",
        "    print(\"training {} ...\".format(classifier))\n",
        "    scores = []\n",
        "    for i in tqdm(range(rounds)):\n",
        "      np.random.seed(RANDOM_STATE)\n",
        "      random_int = np.random.randint(0,3000)\n",
        "      kfold = model_selection.KFold(n_splits=k, random_state=random_int, shuffle=True)\n",
        "      scores.append(model_selection.cross_val_score(classifier, X=X_res, y=y_res, cv=kfold, scoring=metrics))\n",
        "    # res['Score'] = np.array(scores).flatten()\n",
        "\n",
        "    # bias[model_name + 'bias'] = 1 - round(np.array(scores).mean(),4)\n",
        "    # variance[model_name + '_variance'] = round(np.array(scores).std(),4)\n",
        "    res[model_name] = np.array(scores).flatten()\n",
        "    # bias[model_name + '_bias'] = 1 - round(np.array(scores).mean(),4)\n",
        "    # variance[model_name + '_variance'] = round(np.array(scores).std(),4)   \n",
        "  return res"
      ],
      "metadata": {
        "id": "-6AXezG-EwoW"
      },
      "execution_count": null,
      "outputs": []
    },
    {
      "cell_type": "code",
      "source": [
        "#Used after scores are pushed into dataframes in order to create df strcitly \n",
        "#for bias and variance scores\n",
        "\n",
        "def get_bivar(df):\n",
        "  '''\n",
        "  -Takes a dataframe as a parameter.\n",
        "  -Creates 3 list for model name, bias score and variance score.\n",
        "  -Lists are apended into the bivar dictionary to be turned into a DF after the\n",
        "  function is run.\n",
        "\n",
        "  '''\n",
        "\n",
        "  name = []\n",
        "  bias = []\n",
        "  variance = []\n",
        "\n",
        "  bivar = {}\n",
        "\n",
        "  for col in df.columns:\n",
        "    name.append(col)\n",
        "    bias.append(1 - round(np.array(df[col]).mean(),4))\n",
        "    variance.append(round(np.array(df[col]).std(),4))\n",
        "\n",
        "  bivar['model'] = name\n",
        "  bivar['bias'] = bias\n",
        "  bivar['var'] = variance\n",
        "\n",
        "  return bivar"
      ],
      "metadata": {
        "id": "npmKA1IDFDEn"
      },
      "execution_count": null,
      "outputs": []
    },
    {
      "cell_type": "code",
      "source": [
        "recall_scores = pd.DataFrame(model_eval(X_train, y_train, models, metrics = \"recall\"))\n",
        "\n",
        "# out_path = '/content/drive/MyDrive/DATA6999:Capstone/recall_scores'\n",
        "# recall_scores.to_csv(out_path)"
      ],
      "metadata": {
        "id": "XlVfdc_fFLEx",
        "colab": {
          "base_uri": "https://localhost:8080/"
        },
        "outputId": "57bb9c2d-5c90-4ec5-fcbe-7b37e80d8354"
      },
      "execution_count": null,
      "outputs": [
        {
          "output_type": "stream",
          "name": "stdout",
          "text": [
            "training DecisionTreeClassifier(max_depth=10, random_state=2023) ...\n"
          ]
        },
        {
          "output_type": "stream",
          "name": "stderr",
          "text": [
            "100%|██████████| 1/1 [00:50<00:00, 50.86s/it]\n"
          ]
        },
        {
          "output_type": "stream",
          "name": "stdout",
          "text": [
            "training LogisticRegression(max_iter=2000) ...\n"
          ]
        },
        {
          "output_type": "stream",
          "name": "stderr",
          "text": [
            "100%|██████████| 1/1 [01:00<00:00, 60.77s/it]\n"
          ]
        },
        {
          "output_type": "stream",
          "name": "stdout",
          "text": [
            "training LinearSVC(max_iter=5000) ...\n"
          ]
        },
        {
          "output_type": "stream",
          "name": "stderr",
          "text": [
            "100%|██████████| 1/1 [13:27<00:00, 807.54s/it]\n"
          ]
        },
        {
          "output_type": "stream",
          "name": "stdout",
          "text": [
            "training GaussianNB() ...\n"
          ]
        },
        {
          "output_type": "stream",
          "name": "stderr",
          "text": [
            "100%|██████████| 1/1 [00:02<00:00,  2.28s/it]\n"
          ]
        },
        {
          "output_type": "stream",
          "name": "stdout",
          "text": [
            "training RandomForestClassifier(max_depth=10) ...\n"
          ]
        },
        {
          "output_type": "stream",
          "name": "stderr",
          "text": [
            "100%|██████████| 1/1 [04:39<00:00, 279.39s/it]\n"
          ]
        },
        {
          "output_type": "stream",
          "name": "stdout",
          "text": [
            "training SGDClassifier() ...\n"
          ]
        },
        {
          "output_type": "stream",
          "name": "stderr",
          "text": [
            "100%|██████████| 1/1 [00:24<00:00, 24.48s/it]\n"
          ]
        },
        {
          "output_type": "stream",
          "name": "stdout",
          "text": [
            "training GradientBoostingClassifier() ...\n"
          ]
        },
        {
          "output_type": "stream",
          "name": "stderr",
          "text": [
            "100%|██████████| 1/1 [19:37<00:00, 1177.44s/it]\n"
          ]
        },
        {
          "output_type": "stream",
          "name": "stdout",
          "text": [
            "training XGBClassifier(base_score=None, booster=None, callbacks=None,\n",
            "              colsample_bylevel=None, colsample_bynode=None,\n",
            "              colsample_bytree=None, early_stopping_rounds=None,\n",
            "              enable_categorical=False, eval_metric=None, feature_types=None,\n",
            "              gamma=None, gpu_id=None, grow_policy=None, importance_type=None,\n",
            "              interaction_constraints=None, learning_rate=None, max_bin=None,\n",
            "              max_cat_threshold=None, max_cat_to_onehot=None,\n",
            "              max_delta_step=None, max_depth=None, max_leaves=None,\n",
            "              min_child_weight=None, missing=nan, monotone_constraints=None,\n",
            "              n_estimators=100, n_jobs=None, num_parallel_tree=None,\n",
            "              predictor=None, random_state=None, ...) ...\n"
          ]
        },
        {
          "output_type": "stream",
          "name": "stderr",
          "text": [
            "100%|██████████| 1/1 [12:48<00:00, 768.28s/it]\n"
          ]
        }
      ]
    },
    {
      "cell_type": "code",
      "source": [
        "recall_bivar = pd.DataFrame(get_bivar(recall_scores))"
      ],
      "metadata": {
        "id": "LuQuMGDFFXW0"
      },
      "execution_count": null,
      "outputs": []
    },
    {
      "cell_type": "code",
      "source": [
        "recall_scores, recall_bivar"
      ],
      "metadata": {
        "id": "xbLMIpQABJDp",
        "colab": {
          "base_uri": "https://localhost:8080/"
        },
        "outputId": "786678d7-5574-415c-95b6-b73716a99e24"
      },
      "execution_count": null,
      "outputs": [
        {
          "output_type": "execute_result",
          "data": {
            "text/plain": [
              "(         dt        lr       svc       gnb        rf       sgd        gb  \\\n",
              " 0  0.723212  0.583487  0.584511  0.912723  0.848187  0.468347  0.865806   \n",
              " 1  0.755164  0.561158  0.561361  0.901782  0.846699  0.725395  0.869785   \n",
              " 2  0.756575  0.573293  0.574516  0.902141  0.845668  0.734760  0.868094   \n",
              " 3  0.737631  0.572367  0.572572  0.907617  0.840485  0.614863  0.862451   \n",
              " 4  0.737002  0.567065  0.567671  0.906130  0.848068  0.653854  0.867489   \n",
              " 5  0.739121  0.584863  0.585688  0.909878  0.849660  0.393483  0.863683   \n",
              " 6  0.727645  0.577450  0.578064  0.893186  0.837324  0.741150  0.861060   \n",
              " 7  0.759984  0.579045  0.580074  0.905723  0.839852  0.469123  0.858378   \n",
              " 8  0.741271  0.573562  0.573562  0.912210  0.840767  0.689001  0.863370   \n",
              " 9  0.735787  0.561963  0.563190  0.914315  0.844376  0.485685  0.865849   \n",
              " \n",
              "        xgbc  \n",
              " 0  0.901659  \n",
              " 1  0.902390  \n",
              " 2  0.894597  \n",
              " 3  0.890987  \n",
              " 4  0.901881  \n",
              " 5  0.894205  \n",
              " 6  0.891549  \n",
              " 7  0.890696  \n",
              " 8  0.895661  \n",
              " 9  0.896524  ,\n",
              "   model    bias     var\n",
              " 0    dt  0.2587  0.0116\n",
              " 1    lr  0.4266  0.0078\n",
              " 2   svc  0.4259  0.0079\n",
              " 3   gnb  0.0934  0.0060\n",
              " 4    rf  0.1559  0.0040\n",
              " 5   sgd  0.4024  0.1245\n",
              " 6    gb  0.1354  0.0033\n",
              " 7  xgbc  0.1040  0.0043)"
            ]
          },
          "metadata": {},
          "execution_count": 141
        }
      ]
    },
    {
      "cell_type": "code",
      "source": [
        "barplot = pd.pivot_table(recall_bivar, index=['model'], values = ['bias','var']).sort_values('var').plot(kind = 'bar')\n",
        "plt.title('Recall | Model Biases and Variances')\n",
        "\n",
        "\n",
        "\n",
        "plt.style.use('seaborn')"
      ],
      "metadata": {
        "id": "syjjFhFTHycZ",
        "colab": {
          "base_uri": "https://localhost:8080/",
          "height": 595
        },
        "outputId": "ceeb0866-d69d-40cf-9860-3851062395b9"
      },
      "execution_count": null,
      "outputs": [
        {
          "output_type": "stream",
          "name": "stderr",
          "text": [
            "<ipython-input-142-dbda2be7abf9>:6: MatplotlibDeprecationWarning: The seaborn styles shipped by Matplotlib are deprecated since 3.6, as they no longer correspond to the styles shipped by seaborn. However, they will remain available as 'seaborn-v0_8-<style>'. Alternatively, directly use the seaborn API instead.\n",
            "  plt.style.use('seaborn')\n"
          ]
        },
        {
          "output_type": "display_data",
          "data": {
            "text/plain": [
              "<Figure size 800x550 with 1 Axes>"
            ],
            "image/png": "[encoded data removed]"
          },
          "metadata": {}
        }
      ]
    },
    {
      "cell_type": "markdown",
      "source": [
        "##Hyperparameter Tuning"
      ],
      "metadata": {
        "id": "A2dRJL5LFnwU"
      }
    },
    {
      "cell_type": "code",
      "source": [
        "\n",
        "import xgboost as xgb\n",
        "\n",
        "XGB_params  = {\n",
        "        'final_estimator__n_estimators': [100, 200, 500],\n",
        "        'final_estimator__learning_rate': [0.01, 0.1, 0.3],\n",
        "        'final_estimator__max_depth': [3, 6, 10],\n",
        "    }\n",
        "#Random Search\n",
        "random_XGB = RandomizedSearchCV(estimator=XGBClassifier(), scoring='recall', param_distributions=XGB_params, cv = 3, n_jobs=-1)\n",
        "\n",
        "start_time = time.time()\n",
        "random_xgb_result = random_XGB.fit(X_train, y_train)\n",
        "# Summarize results\n",
        "print(\"Best: %f using %s\" % (random_xgb_result.best_score_, random_xgb_result.best_params_))\n",
        "print(\"Execution time: \" + str((time.time() - start_time)) + ' ms')"
      ],
      "metadata": {
        "id": "mMTA2YMJYR5H",
        "colab": {
          "base_uri": "https://localhost:8080/"
        },
        "outputId": "aaeb25f4-7749-4f42-cb97-23cdc6def9ed"
      },
      "execution_count": null,
      "outputs": [
        {
          "output_type": "stream",
          "name": "stdout",
          "text": [
            "[21:58:05] WARNING: ../src/learner.cc:767: \n",
            "Parameters: { \"final_estimator__learning_rate\", \"final_estimator__max_depth\", \"final_estimator__n_estimators\" } are not used.\n",
            "\n",
            "Best: 0.895420 using {'final_estimator__n_estimators': 100, 'final_estimator__max_depth': 3, 'final_estimator__learning_rate': 0.1}\n",
            "Execution time: 1760.9666440486908 ms\n"
          ]
        }
      ]
    },
    {
      "cell_type": "code",
      "source": [
        "xgb = XGBClassifier(n_estimators= 500, max_depth= 10, learning_rate= 0.3)\n",
        "\n",
        "xgb.fit(X_train, y_train)"
      ],
      "metadata": {
        "id": "zKbjSJxaQvrD"
      },
      "execution_count": null,
      "outputs": []
    },
    {
      "cell_type": "code",
      "source": [
        "print(xgb.feature_importances_)"
      ],
      "metadata": {
        "id": "InPCTUvQEdQU",
        "colab": {
          "base_uri": "https://localhost:8080/"
        },
        "outputId": "790319b3-2316-460e-a0d5-9dcc1df1d72a"
      },
      "execution_count": null,
      "outputs": [
        {
          "output_type": "stream",
          "name": "stdout",
          "text": [
            "[0.00082531 0.00089022 0.00085452 0.00085507 0.00080084 0.00092691\n",
            " 0.00158873 0.00189906 0.0008395  0.0008263  0.00097497 0.00089757\n",
            " 0.00089526 0.00085317 0.00087597 0.00090807 0.00110777 0.00086219\n",
            " 0.00088559 0.00265457 0.00174085 0.09654634 0.02679279 0.04415985\n",
            " 0.05211963 0.0207167  0.01900028 0.00512307 0.00238215 0.01182509\n",
            " 0.01262285 0.00949998 0.01601819 0.01853773 0.01670172 0.02793188\n",
            " 0.02503763 0.02310404 0.02393734 0.02054079 0.02071644 0.02031007\n",
            " 0.01698442 0.01462586 0.01875127 0.00852359 0.01088007 0.01198122\n",
            " 0.01476538 0.00498721 0.00935852 0.00744648 0.00684664 0.00326236\n",
            " 0.00582999 0.00571793 0.00506951 0.00358459 0.00451707 0.00397277\n",
            " 0.00411791 0.00530636 0.00042406 0.0039308  0.02193674 0.00898438\n",
            " 0.02032018 0.0172684  0.05111251 0.0097024  0.03776595 0.01387164\n",
            " 0.01101616 0.04358393 0.00226006 0.00427041 0.00644119 0.00395063\n",
            " 0.         0.00969154 0.00123568 0.00192751 0.         0.00129636\n",
            " 0.01651633 0.         0.0035247  0.         0.00585228 0.        ]\n"
          ]
        }
      ]
    },
    {
      "cell_type": "code",
      "source": [
        "y_pred = xgb.predict(X_test)"
      ],
      "metadata": {
        "id": "BczOXSRZRKfU"
      },
      "execution_count": null,
      "outputs": []
    },
    {
      "cell_type": "code",
      "source": [
        "  from sklearn.metrics import accuracy_score\n",
        "  from sklearn.metrics import recall_score\n",
        "\n",
        "  y_test = [2,2,3]\n",
        "  y_pred = [2,2,1]\n",
        "  print(recall_score( y_test, y_pred, average='micro'))\n",
        "  print(np.mean(y_test==y_pred))"
      ],
      "metadata": {
        "colab": {
          "base_uri": "https://localhost:8080/"
        },
        "id": "tAZJEz3202HS",
        "outputId": "4eb7412c-2ecc-42e2-cd1f-ed2c470346b0"
      },
      "execution_count": null,
      "outputs": [
        {
          "output_type": "stream",
          "name": "stdout",
          "text": [
            "0.6666666666666666\n",
            "0.0\n"
          ]
        }
      ]
    },
    {
      "cell_type": "markdown",
      "source": [
        "##Functional Classification DL Model"
      ],
      "metadata": {
        "id": "rdNzMfsRefh1"
      }
    },
    {
      "cell_type": "code",
      "source": [
        "import tensorflow as tf\n",
        "from tensorflow import keras\n",
        "\n",
        "from keras.models import Sequential\n",
        "from keras.layers import Activation, Dense, Input, BatchNormalization\n",
        "from keras.optimizers import Adam\n",
        "from keras.metrics import categorical_crossentropy\n",
        "from keras.models import Model\n",
        "\n",
        "\n",
        "from keras.callbacks import EarlyStopping, ModelCheckpoint"
      ],
      "metadata": {
        "id": "ep8w4jCGbWdw"
      },
      "execution_count": null,
      "outputs": []
    },
    {
      "cell_type": "code",
      "source": [
        "#create the input layer\n",
        "input_layer = Input(shape=(90, ))\n",
        "\n",
        "hidden_1 = Dense(64, activation='relu')(input_layer)\n",
        "norm1 = BatchNormalization()(hidden_1)\n",
        "hidden_2 = Dense(32, activation='relu')(norm1)\n",
        "# norm2 = BatchNormalization()(hidden_2)\n",
        "output = Dense(1, activation='sigmoid')(hidden_2)\n",
        "\n",
        "\n",
        "\n"
      ],
      "metadata": {
        "id": "-QWtbnu3e1Aa"
      },
      "execution_count": null,
      "outputs": []
    },
    {
      "cell_type": "code",
      "source": [
        "model = Model(inputs=input_layer, outputs=output)"
      ],
      "metadata": {
        "id": "LFSKJgvnFWGs"
      },
      "execution_count": null,
      "outputs": []
    },
    {
      "cell_type": "code",
      "source": [
        "monitor_val_acc = EarlyStopping(monitor='val_accuracy', patience = 2)\n",
        "\n",
        "model_checkpoint = ModelCheckpoint('best_loan_pred_model.hdf5', save_best_only = True)"
      ],
      "metadata": {
        "id": "0NYL57VUhWT6"
      },
      "execution_count": null,
      "outputs": []
    },
    {
      "cell_type": "code",
      "source": [
        "model.compile(optimizer='adam', loss='categorical_crossentropy', metrics=['accuracy', tf.keras.metrics.Recall()])"
      ],
      "metadata": {
        "id": "m11p7BdShDX8"
      },
      "execution_count": null,
      "outputs": []
    },
    {
      "cell_type": "code",
      "source": [
        "model.fit(X_train, y_train ,validation_split=.3, epochs=20, batch_size=200, verbose=2, callbacks =[monitor_val_acc, model_checkpoint])"
      ],
      "metadata": {
        "id": "XnFC_lLjhE3O",
        "colab": {
          "base_uri": "https://localhost:8080/"
        },
        "outputId": "a9aa3360-defd-4778-dffd-aa4aaac1b500"
      },
      "execution_count": null,
      "outputs": [
        {
          "output_type": "stream",
          "name": "stdout",
          "text": [
            "Epoch 1/20\n"
          ]
        },
        {
          "output_type": "stream",
          "name": "stderr",
          "text": [
            "/usr/local/lib/python3.10/dist-packages/tensorflow/python/util/dispatch.py:1176: SyntaxWarning: In loss categorical_crossentropy, expected y_pred.shape to be (batch_size, num_classes) with num_classes > 1. Received: y_pred.shape=(None, 1). Consider using 'binary_crossentropy' if you only have 2 classes.\n",
            "  return dispatch_target(*args, **kwargs)\n",
            "/usr/local/lib/python3.10/dist-packages/tensorflow/python/util/dispatch.py:1176: SyntaxWarning: In loss categorical_crossentropy, expected y_pred.shape to be (batch_size, num_classes) with num_classes > 1. Received: y_pred.shape=(None, 1). Consider using 'binary_crossentropy' if you only have 2 classes.\n",
            "  return dispatch_target(*args, **kwargs)\n"
          ]
        },
        {
          "output_type": "stream",
          "name": "stdout",
          "text": [
            "343/343 - 3s - loss: 0.0000e+00 - accuracy: 0.5012 - recall: 0.0000e+00 - val_loss: 0.0000e+00 - val_accuracy: 0.4972 - val_recall: 0.0000e+00 - 3s/epoch - 10ms/step\n",
            "Epoch 2/20\n",
            "343/343 - 2s - loss: 0.0000e+00 - accuracy: 0.5012 - recall: 0.0000e+00 - val_loss: 0.0000e+00 - val_accuracy: 0.4972 - val_recall: 0.0000e+00 - 2s/epoch - 6ms/step\n",
            "Epoch 3/20\n",
            "343/343 - 1s - loss: 0.0000e+00 - accuracy: 0.5012 - recall: 0.0000e+00 - val_loss: 0.0000e+00 - val_accuracy: 0.4972 - val_recall: 0.0000e+00 - 1s/epoch - 3ms/step\n"
          ]
        },
        {
          "output_type": "execute_result",
          "data": {
            "text/plain": [
              "<keras.callbacks.History at 0x7fe058788340>"
            ]
          },
          "metadata": {},
          "execution_count": 175
        }
      ]
    },
    {
      "cell_type": "markdown",
      "source": [
        "The XGboostclassifier performed much better than the Sequential model "
      ],
      "metadata": {
        "id": "Djz0oTCVFtNJ"
      }
    },
    {
      "cell_type": "code",
      "source": [
        "!ls -lh"
      ],
      "metadata": {
        "id": "G-I3gkjdiJdR",
        "colab": {
          "base_uri": "https://localhost:8080/"
        },
        "outputId": "90261c98-d36e-4de7-96c6-ff807e1ca6c3"
      },
      "execution_count": 1,
      "outputs": [
        {
          "output_type": "stream",
          "name": "stdout",
          "text": [
            "total 4.0K\n",
            "drwxr-xr-x 1 root root 4.0K May 24 18:33 sample_data\n"
          ]
        }
      ]
    },
    {
      "cell_type": "code",
      "source": [],
      "metadata": {
        "id": "rH8Bc6gy09YL"
      },
      "execution_count": null,
      "outputs": []
    }
  ]
}